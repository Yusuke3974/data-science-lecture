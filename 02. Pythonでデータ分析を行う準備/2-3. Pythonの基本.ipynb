{
 "cells": [
  {
   "cell_type": "markdown",
   "metadata": {},
   "source": [
    "# 2-3. Pythonの基本"
   ]
  },
  {
   "cell_type": "markdown",
   "metadata": {},
   "source": [
    "## 基本的な演算\n",
    "- 足す ... `+`\n",
    "- 引く ... `-`\n",
    "- かける ... `*`\n",
    "- 割る ... `/`\n",
    "- あまり ... `%`\n",
    "- 累乗 ... `**`"
   ]
  },
  {
   "cell_type": "code",
   "execution_count": 1,
   "metadata": {},
   "outputs": [
    {
     "data": {
      "text/plain": [
       "2"
      ]
     },
     "execution_count": 1,
     "metadata": {},
     "output_type": "execute_result"
    }
   ],
   "source": [
    "# 足し算の例\n",
    "1 + 1"
   ]
  },
  {
   "cell_type": "markdown",
   "metadata": {},
   "source": [
    "## 変数\n",
    "- データにつけるラベルのようなもの\n",
    "- a = 3, a = \"hello\" のような形で使う\n",
    "- 変数で文字や数字などあらゆるデータを表すことができる\n",
    "- 変数は書き換えることができる"
   ]
  },
  {
   "cell_type": "code",
   "execution_count": 2,
   "metadata": {},
   "outputs": [
    {
     "data": {
      "text/plain": [
       "9"
      ]
     },
     "execution_count": 2,
     "metadata": {},
     "output_type": "execute_result"
    }
   ],
   "source": [
    "# 変数の例\n",
    "number = 3\n",
    "number ** 2"
   ]
  },
  {
   "cell_type": "markdown",
   "metadata": {},
   "source": [
    "## データ型\n",
    "以下のような種類があり、データ型は`type()`で確認できる\n",
    "\n",
    "- 数値\n",
    "  - 整数 ... `int`\n",
    "  - 小数点 ... `float`\n",
    "- 文字列 `str`\n",
    "  - 代表的な操作\n",
    "    - 切り出し/スライス ... `[]`\n",
    "    - 長さ ... `len()`\n",
    "- ブール ... `bool`\n",
    "  - `True`, `False`\n",
    "  - 比較演算子 ... `==`, `!=`, `>`, `<`, などなど\n",
    "- リスト ... `list`\n",
    "  - `[[0] [1] [2] [3] [4] ... ]` といった形のデータ\n",
    "  - 代表的な操作\n",
    "    - 取り出し/書き換え ... `[]`\n",
    "    - リストの長さを調べる ... len()\n",
    "    - などなど\n",
    "- 辞書 ... `dict`\n",
    "  - `{'tom': 10, 'jon': 20, ...}` といった形のデータ、key（キー）とvalue（値）の組で表現されている\n",
    "  - 代表的な操作\n",
    "    - データの追加/参照 ... `[]`\n",
    "    - key一覧を取り出す ... `.keys()`\n",
    "    - value一覧を取り出す ... `.values()`\n",
    "    - key&values一覧を取り出す ... `.items()`\n"
   ]
  },
  {
   "cell_type": "code",
   "execution_count": 3,
   "metadata": {},
   "outputs": [
    {
     "data": {
      "text/plain": [
       "int"
      ]
     },
     "execution_count": 3,
     "metadata": {},
     "output_type": "execute_result"
    }
   ],
   "source": [
    "# 整数\n",
    "type(1)"
   ]
  },
  {
   "cell_type": "code",
   "execution_count": 4,
   "metadata": {},
   "outputs": [
    {
     "data": {
      "text/plain": [
       "float"
      ]
     },
     "execution_count": 4,
     "metadata": {},
     "output_type": "execute_result"
    }
   ],
   "source": [
    "#小数点\n",
    "type(0.1)"
   ]
  },
  {
   "cell_type": "code",
   "execution_count": 5,
   "metadata": {},
   "outputs": [
    {
     "data": {
      "text/plain": [
       "str"
      ]
     },
     "execution_count": 5,
     "metadata": {},
     "output_type": "execute_result"
    }
   ],
   "source": [
    "# 文字列\n",
    "type(\"hello!\")"
   ]
  },
  {
   "cell_type": "code",
   "execution_count": 6,
   "metadata": {},
   "outputs": [
    {
     "data": {
      "text/plain": [
       "bool"
      ]
     },
     "execution_count": 6,
     "metadata": {},
     "output_type": "execute_result"
    }
   ],
   "source": [
    "# ブール\n",
    "type(True)"
   ]
  },
  {
   "cell_type": "code",
   "execution_count": 7,
   "metadata": {},
   "outputs": [
    {
     "data": {
      "text/plain": [
       "list"
      ]
     },
     "execution_count": 7,
     "metadata": {},
     "output_type": "execute_result"
    }
   ],
   "source": [
    "# リスト\n",
    "type([0, 1, 2])"
   ]
  },
  {
   "cell_type": "code",
   "execution_count": 8,
   "metadata": {},
   "outputs": [
    {
     "data": {
      "text/plain": [
       "dict"
      ]
     },
     "execution_count": 8,
     "metadata": {},
     "output_type": "execute_result"
    }
   ],
   "source": [
    "# 辞書\n",
    "type({\"key\": \"value\"})"
   ]
  },
  {
   "cell_type": "markdown",
   "metadata": {},
   "source": [
    "## 基本的な文法\n",
    "### if文\n",
    "- if の後ろがTrueだった場合にその下の文が実行される\n",
    "- `elif`, `else`と組み合わせることでそれ以外の場合に何を実行するか指定できるが、組み合わせなくてもOK\n",
    "- 何もしないことを表す`pass`がある\n",
    "- 比較演算子と一緒と活用する\n",
    "\n",
    "### for文\n",
    "- `for [リストの要素] in [リスト]:` という文の構造\n",
    "- `[リスト]`はリストっぽいもの\n",
    "\n",
    "### リスト内包表記\n",
    "- for文を用いて新たなリストを作成することができる\n",
    "- `[<要素> for <要素> in <リスト>]` の形で作成する\n",
    "\n",
    "### 関数\n",
    "- 処理の方法を定義して、それに名前をつけたもの\n",
    "- 自作関数\n",
    "  - `def 関数名():` で自作の関数を作ることができる\n",
    "  - `return x` で返り値を指定できる（return で関数の処理が終了）\n",
    "- 組み込み関数\n",
    "  - pythonで標準的に付属している関数\n",
    "  - 何もしなくても呼び出せる・使える\n",
    "- モジュール\n",
    "  - `import文` を使うことによって読み込むことができる関数など"
   ]
  },
  {
   "cell_type": "code",
   "execution_count": 9,
   "metadata": {},
   "outputs": [
    {
     "data": {
      "text/plain": [
       "'令和か平成'"
      ]
     },
     "execution_count": 9,
     "metadata": {},
     "output_type": "execute_result"
    }
   ],
   "source": [
    "# If文の例\n",
    "birth_year = 2020\n",
    "gangou = \"\"\n",
    "if birth_year > 2019:\n",
    "    gangou = '令和か平成'\n",
    "elif birth_year > 1989:\n",
    "    gangou = '平成'\n",
    "else:\n",
    "    gangou = '平成か昭和かその他'\n",
    "gangou"
   ]
  },
  {
   "cell_type": "code",
   "execution_count": 10,
   "metadata": {},
   "outputs": [
    {
     "data": {
      "text/plain": [
       "6"
      ]
     },
     "execution_count": 10,
     "metadata": {},
     "output_type": "execute_result"
    }
   ],
   "source": [
    "# for文の例\n",
    "numbers = [1, 2, 3]\n",
    "sum_num = 0\n",
    "\n",
    "for i in numbers:\n",
    "    sum_num = sum_num + i\n",
    "\n",
    "sum_num"
   ]
  },
  {
   "cell_type": "code",
   "execution_count": 11,
   "metadata": {},
   "outputs": [
    {
     "data": {
      "text/plain": [
       "[2, 4, 6]"
      ]
     },
     "execution_count": 11,
     "metadata": {},
     "output_type": "execute_result"
    }
   ],
   "source": [
    "# リスト内包表記の例\n",
    "[num * 2 for num in numbers]"
   ]
  },
  {
   "cell_type": "code",
   "execution_count": 12,
   "metadata": {},
   "outputs": [],
   "source": [
    "# 関数の例\n",
    "def get_gangou(birth_year):\n",
    "    gangou = \"\"\n",
    "    if birth_year > 2019:\n",
    "        gangou = '令和か平成'\n",
    "    elif birth_year > 1989:\n",
    "        gangou = '平成'\n",
    "    else:\n",
    "        gangou = '平成か昭和かその他'\n",
    "    return gangou"
   ]
  },
  {
   "cell_type": "code",
   "execution_count": 13,
   "metadata": {},
   "outputs": [
    {
     "data": {
      "text/plain": [
       "'平成か昭和かその他'"
      ]
     },
     "execution_count": 13,
     "metadata": {},
     "output_type": "execute_result"
    }
   ],
   "source": [
    "gangou = get_gangou(1980)\n",
    "gangou"
   ]
  },
  {
   "cell_type": "code",
   "execution_count": 14,
   "metadata": {},
   "outputs": [
    {
     "data": {
      "text/plain": [
       "8"
      ]
     },
     "execution_count": 14,
     "metadata": {},
     "output_type": "execute_result"
    }
   ],
   "source": [
    "# 組み込み関数の例\n",
    "len(\"hogehoge\")"
   ]
  },
  {
   "cell_type": "code",
   "execution_count": 15,
   "metadata": {},
   "outputs": [
    {
     "data": {
      "text/plain": [
       "int"
      ]
     },
     "execution_count": 15,
     "metadata": {},
     "output_type": "execute_result"
    }
   ],
   "source": [
    "type(int(\"10\"))"
   ]
  },
  {
   "cell_type": "code",
   "execution_count": 16,
   "metadata": {},
   "outputs": [],
   "source": [
    "# モジュールの例\n",
    "import random"
   ]
  },
  {
   "cell_type": "code",
   "execution_count": 17,
   "metadata": {},
   "outputs": [
    {
     "data": {
      "text/plain": [
       "[3]"
      ]
     },
     "execution_count": 17,
     "metadata": {},
     "output_type": "execute_result"
    }
   ],
   "source": [
    "random.sample([0, 2, 3], 1)"
   ]
  }
 ],
 "metadata": {
  "kernelspec": {
   "display_name": "Python 3",
   "language": "python",
   "name": "python3"
  },
  "language_info": {
   "codemirror_mode": {
    "name": "ipython",
    "version": 3
   },
   "file_extension": ".py",
   "mimetype": "text/x-python",
   "name": "python",
   "nbconvert_exporter": "python",
   "pygments_lexer": "ipython3",
   "version": "3.7.2"
  }
 },
 "nbformat": 4,
 "nbformat_minor": 2
}
