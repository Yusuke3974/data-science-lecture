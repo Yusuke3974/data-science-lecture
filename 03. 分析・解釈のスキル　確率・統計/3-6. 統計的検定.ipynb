{
 "cells": [
  {
   "cell_type": "markdown",
   "metadata": {},
   "source": [
    "# 統計的検定\n",
    "## 問題設定\n",
    "あやめデータで、`virginica` のsepal length (cm)は `setosa` よりも大きいと言って良いか？"
   ]
  },
  {
   "cell_type": "code",
   "execution_count": 14,
   "metadata": {},
   "outputs": [],
   "source": [
    "import numpy as np\n",
    "import pandas as pd\n",
    "\n",
    "# 可視化\n",
    "import matplotlib.pyplot as plt\n",
    "import seaborn as sns\n",
    "%matplotlib inline"
   ]
  },
  {
   "cell_type": "code",
   "execution_count": 2,
   "metadata": {},
   "outputs": [],
   "source": [
    "# あやめデータの読み込み\n",
    "from sklearn.datasets import load_iris\n",
    "iris = load_iris()\n",
    "iris_df = pd.DataFrame(iris.data, columns=iris.feature_names)\n",
    "\n",
    "target_name_data = []\n",
    "for target in iris.target:\n",
    "    target_name_data.append(iris['target_names'][target])\n",
    "iris_df['target'] = np.array(target_name_data)"
   ]
  },
  {
   "cell_type": "code",
   "execution_count": 12,
   "metadata": {},
   "outputs": [
    {
     "name": "stdout",
     "output_type": "stream",
     "text": [
      "setosa種:  5.005999999999999\n",
      "virginica種:  6.587999999999998\n"
     ]
    }
   ],
   "source": [
    "# setosa種とvirginica種のsepal lengthの平均値の違い？\n",
    "print(\"setosa種: \", iris_df[iris_df.target == 'setosa']['sepal length (cm)'].mean())\n",
    "print(\"virginica種: \", iris_df[iris_df.target == 'virginica']['sepal length (cm)'].mean())"
   ]
  },
  {
   "cell_type": "code",
   "execution_count": 23,
   "metadata": {},
   "outputs": [
    {
     "data": {
      "text/plain": [
       "(4, 8)"
      ]
     },
     "execution_count": 23,
     "metadata": {},
     "output_type": "execute_result"
    },
    {
     "data": {
      "image/png": "[encoded data removed]",
      "text/plain": [
       "<Figure size 432x288 with 1 Axes>"
      ]
     },
     "metadata": {
      "needs_background": "light"
     },
     "output_type": "display_data"
    }
   ],
   "source": [
    "# ヒストグラムで比較\n",
    "iris_df[iris_df.target == 'setosa']['sepal length (cm)'].hist()\n",
    "plt.xlim(4, 8)"
   ]
  },
  {
   "cell_type": "code",
   "execution_count": 26,
   "metadata": {},
   "outputs": [
    {
     "data": {
      "text/plain": [
       "(4, 8)"
      ]
     },
     "execution_count": 26,
     "metadata": {},
     "output_type": "execute_result"
    },
    {
     "data": {
      "image/png": "[encoded data removed]",
      "text/plain": [
       "<Figure size 432x288 with 1 Axes>"
      ]
     },
     "metadata": {
      "needs_background": "light"
     },
     "output_type": "display_data"
    }
   ],
   "source": [
    "# ヒストグラムで比較\n",
    "iris_df[iris_df.target == 'virginica']['sepal length (cm)'].hist()\n",
    "plt.xlim(4, 8)"
   ]
  },
  {
   "cell_type": "markdown",
   "metadata": {},
   "source": [
    "## 統計的検定\n",
    "### 検定\n",
    "上記のような意思決定をもう少し決まったプロセスに沿って意思決定を行いたい場合に「検定」という方法を取ることができ、実際のビジネスでよく活用されている。\n",
    "\n",
    "#### 検定の基本コンセプト\n",
    "- 「帰無仮説（差がない、など）」と「対立仮説（差がある、など）」の2つの仮説をおく\n",
    "- 得られた標本から上記を検証できる何らかの統計量を計算する（＝標本統計量、例えば差がどの程度かなど）\n",
    "- その統計量の起こりやすさ（p値）を計算\n",
    "- あらかじめ設定したp値（棄却域）よりも得られた標本統計量のp値が低ければ通常起こりうる誤差の範囲を超えていると判断\n",
    "- 帰無仮説が棄却されると対立仮説が採択される（つまり両者に差がある）と結論付けられる\n",
    "\n",
    "### t検定（ウェルチのt検定）\n",
    "検定には様々な方法があるが、上記のような2群の平均値の比較に関して「t検定」と呼ばれる手法がよく用いられ、以下のようなプロセスになる。\n",
    "\n",
    "t検定の基本コンセプトは「2つの標本の平均値の差に関する統計量を求めて、その値がどのくらいすごいことなのか（起こりにくいのか）を判断する」というもの。\n",
    "\n",
    "以下のSTEPで行う。\n",
    "\n",
    "#### 1. 「帰無仮説（差がない、など）」と「対立仮説（差がある、など）」の2つの仮説をおく\n",
    "t検定では帰無仮説を「平均値に差はない」、対立仮説を「平均値に差がある（差がないとは言えない）」と設定する\n",
    "\n",
    "#### 2. t値と呼ばれる誤差を考慮した標本間の平均の差を求める\n",
    "まずは、標準誤差$SE$と呼ばれる、「得られた推定値（平均値の差）が変動しそうな範囲」を分散Vを元に計算する。\n",
    "\n",
    "以下はXとYの2つの標本がそれぞれ、サンプルサイズn, mである場合を想定。\n",
    "\n",
    "$$\n",
    "V =  \n",
    "\\frac{\\sum_{i=1}^{n}(X_i - \\overline{X})^2 + \\sum_{i=1}^{n}(Y_i - \\overline{Y})^2}\n",
    "{n + m - 2}\n",
    "$$\n",
    "\n",
    "$$ SE = \\sqrt{\\frac{V}{n} + \\frac{V}{n}} $$\n",
    "\n",
    "標本平均の差を標準誤差$SE$で割る。\n",
    "\n",
    "$$ t値 = \\frac{\\overline{X} - \\overline{Y}}{SE} $$\n",
    "\n",
    "平均値の差が大きいほどt値は大きくなり、標準誤差が大きいほどt値は小さくなる。\n",
    "\n",
    "#### 4. 求められたt値をp値に変換\n",
    "t値についてその値がどの程度起こりやすいかを表したp値と呼ばれる値に変換する。\n",
    "\n",
    "p値の計算プロセスは実務上特に意識する必要はありませんが、t値が大きいほどp値は小さくなるというのは覚えておくと良い。\n",
    "\n",
    "#### 5. 標本から得られたp値が棄却域に含まれているか判定\n",
    "棄却域に対応するt値と標本から得られたt値を比べて、標本から得られたt値が棄却域に入っていたら帰無仮説を棄却。\n",
    "\n",
    "棄却域はp<0.05で設定されることが慣習的に多い。"
   ]
  },
  {
   "cell_type": "code",
   "execution_count": 27,
   "metadata": {},
   "outputs": [],
   "source": [
    "# t検定をしてみる、ライブラリを使うとt値とp値を同時に求めてくれる\n",
    "from scipy import stats\n",
    "t, p = stats.ttest_rel(iris_df[iris_df.target == 'setosa']['sepal length (cm)'], iris_df[iris_df.target == 'virginica']['sepal length (cm)'])"
   ]
  },
  {
   "cell_type": "code",
   "execution_count": 28,
   "metadata": {},
   "outputs": [
    {
     "data": {
      "text/plain": [
       "(-16.344145683358008, 1.789394192251355e-21)"
      ]
     },
     "execution_count": 28,
     "metadata": {},
     "output_type": "execute_result"
    }
   ],
   "source": [
    "t, p"
   ]
  },
  {
   "cell_type": "markdown",
   "metadata": {},
   "source": [
    "## t検定の注意\n",
    "有意差が出る3つの条件\n",
    "- 平均値の差が大きい\n",
    "- 分散が小さい（ばらつきが少ない）\n",
    "- サンプルサイズが大きい\n",
    "\n",
    "## 検定の注意\n",
    "- 大量のデータを用いるとp値が小さくなり、帰無仮説が棄却されやすくなってしまう\n",
    "- 検定を使えば必ず答えが出る訳ではなく、どのような背景知識を用いて意思決定をしているかを意識するのが良い\n",
    "\n",
    "### その他の意思決定手法\n",
    "- 信頼区間\n",
    "- ベイズ推定\n",
    "\n",
    "### 参考図書\n",
    "- 理論など： 丹後 俊郎 (著) 『新版 統計学のセンス ―デザインする視点・データを見る目―』\n",
    "- 実務観点: 上田 拓治 (著) 『44の例題で学ぶ統計的検定と推定の解き方』"
   ]
  },
  {
   "cell_type": "code",
   "execution_count": null,
   "metadata": {},
   "outputs": [],
   "source": []
  }
 ],
 "metadata": {
  "kernelspec": {
   "display_name": "Python 3",
   "language": "python",
   "name": "python3"
  },
  "language_info": {
   "codemirror_mode": {
    "name": "ipython",
    "version": 3
   },
   "file_extension": ".py",
   "mimetype": "text/x-python",
   "name": "python",
   "nbconvert_exporter": "python",
   "pygments_lexer": "ipython3",
   "version": "3.7.2"
  }
 },
 "nbformat": 4,
 "nbformat_minor": 2
}
