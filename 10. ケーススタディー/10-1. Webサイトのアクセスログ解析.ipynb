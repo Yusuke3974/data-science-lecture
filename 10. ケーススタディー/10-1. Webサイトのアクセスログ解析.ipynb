{
 "cells": [
  {
   "cell_type": "markdown",
   "metadata": {},
   "source": [
    "# 10-1. Webサイトのアクセスログ解析\n",
    "\n",
    "### 課題設定\n",
    "\n",
    "```\n",
    "あなたはとあるECサイトを運営している会社に新たに着任したデータサイエンティストです。\n",
    "着任がてら上司から「現状の私たちのECサイトの状態を分析して状況を教えて欲しい、もし課題があれば解決策ももらえると嬉しいな。」と言われました。\n",
    "また上司から「ちなみに私たちのKPIはCVR(商品購入数/商品詳細ページ閲覧数)だから、そのあたりを改善できると嬉しいかも」と追加の情報をもらいました。\n",
    "\n",
    "どのように分析を進めて行けば良いでしょうか？\n",
    "```"
   ]
  },
  {
   "cell_type": "markdown",
   "metadata": {},
   "source": [
    "## 利用するデータ\n",
    "- 講師がシミュレーションによって作成したある日のECサイトの行動ログ\n",
    "- 以下のような列を持つ\n",
    "  - timestamp ... タイムスタンプ（ログが生成された時間）\n",
    "  - user_id ... ユーザーID\n",
    "  - state_id ... ログ生成のタイプ(ID)\n",
    "  - items ... 生成時に紐付くアイテムID\n",
    "  - state_name ... ログ生成のタイプ(名前)\n",
    "\n",
    "### Webサイトの構造（設定）\n",
    "\n",
    "<img src=\"https://qiita-user-contents.imgix.net/https%3A%2F%2Fqiita-image-store.s3.ap-northeast-1.amazonaws.com%2F0%2F108223%2F2b7ad3c4-db3a-9d83-4467-791c1d1433eb.png?ixlib=rb-1.2.2&auto=format&gif-q=60&q=75&w=1400&fit=max&s=42549123b92ee2d70a7ba174c2567c78\">"
   ]
  },
  {
   "cell_type": "code",
   "execution_count": 1,
   "metadata": {},
   "outputs": [],
   "source": [
    "# ライブラリの読み込み\n",
    "import pandas as pd\n",
    "import matplotlib.pyplot as plt\n",
    "import seaborn as sns\n",
    "\n",
    "%matplotlib inline"
   ]
  },
  {
   "cell_type": "markdown",
   "metadata": {},
   "source": [
    "## データの理解"
   ]
  },
  {
   "cell_type": "code",
   "execution_count": 2,
   "metadata": {},
   "outputs": [],
   "source": [
    "# とある1日のログデータのファイル\n",
    "log_file = \"https://raw.githubusercontent.com/rilmayer/data-science-lecture/master/data/20180629log.csv\"\n",
    "\n",
    "# 最初の行がタイムスタンプなので、データ型を指定する\n",
    "df = pd.read_csv(log_file, dtype={0: str}, parse_dates =[0])"
   ]
  },
  {
   "cell_type": "code",
   "execution_count": 3,
   "metadata": {},
   "outputs": [
    {
     "data": {
      "text/html": [
       "<div>\n",
       "<style scoped>\n",
       "    .dataframe tbody tr th:only-of-type {\n",
       "        vertical-align: middle;\n",
       "    }\n",
       "\n",
       "    .dataframe tbody tr th {\n",
       "        vertical-align: top;\n",
       "    }\n",
       "\n",
       "    .dataframe thead th {\n",
       "        text-align: right;\n",
       "    }\n",
       "</style>\n",
       "<table border=\"1\" class=\"dataframe\">\n",
       "  <thead>\n",
       "    <tr style=\"text-align: right;\">\n",
       "      <th></th>\n",
       "      <th>timestamp</th>\n",
       "      <th>user_id</th>\n",
       "      <th>state_id</th>\n",
       "      <th>items</th>\n",
       "      <th>state_name</th>\n",
       "    </tr>\n",
       "  </thead>\n",
       "  <tbody>\n",
       "    <tr>\n",
       "      <th>0</th>\n",
       "      <td>2018-06-29 09:00:02+09:00</td>\n",
       "      <td>80</td>\n",
       "      <td>0</td>\n",
       "      <td>NaN</td>\n",
       "      <td>top_page_view</td>\n",
       "    </tr>\n",
       "    <tr>\n",
       "      <th>1</th>\n",
       "      <td>2018-06-29 09:00:07+09:00</td>\n",
       "      <td>95</td>\n",
       "      <td>0</td>\n",
       "      <td>NaN</td>\n",
       "      <td>top_page_view</td>\n",
       "    </tr>\n",
       "    <tr>\n",
       "      <th>2</th>\n",
       "      <td>2018-06-29 09:00:07+09:00</td>\n",
       "      <td>7</td>\n",
       "      <td>0</td>\n",
       "      <td>NaN</td>\n",
       "      <td>top_page_view</td>\n",
       "    </tr>\n",
       "    <tr>\n",
       "      <th>3</th>\n",
       "      <td>2018-06-29 09:00:08+09:00</td>\n",
       "      <td>21</td>\n",
       "      <td>0</td>\n",
       "      <td>NaN</td>\n",
       "      <td>top_page_view</td>\n",
       "    </tr>\n",
       "    <tr>\n",
       "      <th>4</th>\n",
       "      <td>2018-06-29 09:00:09+09:00</td>\n",
       "      <td>17</td>\n",
       "      <td>0</td>\n",
       "      <td>NaN</td>\n",
       "      <td>top_page_view</td>\n",
       "    </tr>\n",
       "  </tbody>\n",
       "</table>\n",
       "</div>"
      ],
      "text/plain": [
       "                  timestamp  user_id  state_id items     state_name\n",
       "0 2018-06-29 09:00:02+09:00       80         0   NaN  top_page_view\n",
       "1 2018-06-29 09:00:07+09:00       95         0   NaN  top_page_view\n",
       "2 2018-06-29 09:00:07+09:00        7         0   NaN  top_page_view\n",
       "3 2018-06-29 09:00:08+09:00       21         0   NaN  top_page_view\n",
       "4 2018-06-29 09:00:09+09:00       17         0   NaN  top_page_view"
      ]
     },
     "execution_count": 3,
     "metadata": {},
     "output_type": "execute_result"
    }
   ],
   "source": [
    "# ログ形式確認\n",
    "df.head()"
   ]
  },
  {
   "cell_type": "code",
   "execution_count": 4,
   "metadata": {
    "scrolled": true
   },
   "outputs": [
    {
     "data": {
      "text/html": [
       "<div>\n",
       "<style scoped>\n",
       "    .dataframe tbody tr th:only-of-type {\n",
       "        vertical-align: middle;\n",
       "    }\n",
       "\n",
       "    .dataframe tbody tr th {\n",
       "        vertical-align: top;\n",
       "    }\n",
       "\n",
       "    .dataframe thead th {\n",
       "        text-align: right;\n",
       "    }\n",
       "</style>\n",
       "<table border=\"1\" class=\"dataframe\">\n",
       "  <thead>\n",
       "    <tr style=\"text-align: right;\">\n",
       "      <th></th>\n",
       "      <th>timestamp</th>\n",
       "      <th>user_id</th>\n",
       "      <th>state_id</th>\n",
       "      <th>items</th>\n",
       "      <th>state_name</th>\n",
       "    </tr>\n",
       "  </thead>\n",
       "  <tbody>\n",
       "    <tr>\n",
       "      <th>0</th>\n",
       "      <td>2018-06-29 09:00:02+09:00</td>\n",
       "      <td>80</td>\n",
       "      <td>0</td>\n",
       "      <td>NaN</td>\n",
       "      <td>top_page_view</td>\n",
       "    </tr>\n",
       "    <tr>\n",
       "      <th>335</th>\n",
       "      <td>2018-06-29 09:30:17+09:00</td>\n",
       "      <td>80</td>\n",
       "      <td>0</td>\n",
       "      <td>NaN</td>\n",
       "      <td>top_page_view</td>\n",
       "    </tr>\n",
       "    <tr>\n",
       "      <th>337</th>\n",
       "      <td>2018-06-29 09:30:40+09:00</td>\n",
       "      <td>80</td>\n",
       "      <td>1</td>\n",
       "      <td>30:31:32:33:34:35:36:37:38:39</td>\n",
       "      <td>list_page_view</td>\n",
       "    </tr>\n",
       "    <tr>\n",
       "      <th>341</th>\n",
       "      <td>2018-06-29 09:31:27+09:00</td>\n",
       "      <td>80</td>\n",
       "      <td>0</td>\n",
       "      <td>NaN</td>\n",
       "      <td>top_page_view</td>\n",
       "    </tr>\n",
       "    <tr>\n",
       "      <th>359</th>\n",
       "      <td>2018-06-29 09:32:25+09:00</td>\n",
       "      <td>80</td>\n",
       "      <td>1</td>\n",
       "      <td>60:61:62:63:64:65:66:67:68:69</td>\n",
       "      <td>list_page_view</td>\n",
       "    </tr>\n",
       "    <tr>\n",
       "      <th>427</th>\n",
       "      <td>2018-06-29 09:34:19+09:00</td>\n",
       "      <td>80</td>\n",
       "      <td>2</td>\n",
       "      <td>63</td>\n",
       "      <td>detail_page_view</td>\n",
       "    </tr>\n",
       "    <tr>\n",
       "      <th>454</th>\n",
       "      <td>2018-06-29 09:34:53+09:00</td>\n",
       "      <td>80</td>\n",
       "      <td>1</td>\n",
       "      <td>60:61:62:63:64:65:66:67:68:69</td>\n",
       "      <td>list_page_view</td>\n",
       "    </tr>\n",
       "    <tr>\n",
       "      <th>524</th>\n",
       "      <td>2018-06-29 09:36:41+09:00</td>\n",
       "      <td>80</td>\n",
       "      <td>2</td>\n",
       "      <td>63</td>\n",
       "      <td>detail_page_view</td>\n",
       "    </tr>\n",
       "    <tr>\n",
       "      <th>583</th>\n",
       "      <td>2018-06-29 09:38:11+09:00</td>\n",
       "      <td>80</td>\n",
       "      <td>3</td>\n",
       "      <td>63</td>\n",
       "      <td>item_purchase</td>\n",
       "    </tr>\n",
       "    <tr>\n",
       "      <th>586</th>\n",
       "      <td>2018-06-29 09:38:12+09:00</td>\n",
       "      <td>80</td>\n",
       "      <td>0</td>\n",
       "      <td>NaN</td>\n",
       "      <td>top_page_view</td>\n",
       "    </tr>\n",
       "  </tbody>\n",
       "</table>\n",
       "</div>"
      ],
      "text/plain": [
       "                    timestamp  user_id  state_id  \\\n",
       "0   2018-06-29 09:00:02+09:00       80         0   \n",
       "335 2018-06-29 09:30:17+09:00       80         0   \n",
       "337 2018-06-29 09:30:40+09:00       80         1   \n",
       "341 2018-06-29 09:31:27+09:00       80         0   \n",
       "359 2018-06-29 09:32:25+09:00       80         1   \n",
       "427 2018-06-29 09:34:19+09:00       80         2   \n",
       "454 2018-06-29 09:34:53+09:00       80         1   \n",
       "524 2018-06-29 09:36:41+09:00       80         2   \n",
       "583 2018-06-29 09:38:11+09:00       80         3   \n",
       "586 2018-06-29 09:38:12+09:00       80         0   \n",
       "\n",
       "                             items        state_name  \n",
       "0                              NaN     top_page_view  \n",
       "335                            NaN     top_page_view  \n",
       "337  30:31:32:33:34:35:36:37:38:39    list_page_view  \n",
       "341                            NaN     top_page_view  \n",
       "359  60:61:62:63:64:65:66:67:68:69    list_page_view  \n",
       "427                             63  detail_page_view  \n",
       "454  60:61:62:63:64:65:66:67:68:69    list_page_view  \n",
       "524                             63  detail_page_view  \n",
       "583                             63     item_purchase  \n",
       "586                            NaN     top_page_view  "
      ]
     },
     "execution_count": 4,
     "metadata": {},
     "output_type": "execute_result"
    }
   ],
   "source": [
    "# 一人のユーザーを追ってみる\n",
    "df[df.user_id == 80].sort_values(by='timestamp').head(10)"
   ]
  },
  {
   "cell_type": "markdown",
   "metadata": {},
   "source": [
    "## メジャーな指標を計算してみる\n",
    "コースで触れたものの一部\n",
    "\n",
    "- DAU (Daily Active Users) ... 日別のユーザー数\n",
    "- CVR (Conversion Rate) ... ユーザーあたりのコンバージョン(重要なアクション)数\n",
    "- CTR (Click Through Rate) ... とあるページからとあるページへ遷移した数の割合\n",
    "- PV (Page View) ... とあるページのアクセス数\n"
   ]
  },
  {
   "cell_type": "code",
   "execution_count": 5,
   "metadata": {},
   "outputs": [
    {
     "data": {
      "text/plain": [
       "100"
      ]
     },
     "execution_count": 5,
     "metadata": {},
     "output_type": "execute_result"
    }
   ],
   "source": [
    "# DAUを求める\n",
    "n_users = len(df.user_id.unique())\n",
    "n_users"
   ]
  },
  {
   "cell_type": "code",
   "execution_count": 6,
   "metadata": {
    "scrolled": true
   },
   "outputs": [
    {
     "data": {
      "text/plain": [
       "0.20068359375"
      ]
     },
     "execution_count": 6,
     "metadata": {},
     "output_type": "execute_result"
    }
   ],
   "source": [
    "# CVRの計算\n",
    "n_detail_page_viewl = df[df.state_name == 'detail_page_view'].shape[0]\n",
    "n_item_purchase = df[df.state_name == 'item_purchase'].shape[0]\n",
    "n_item_purchase / n_detail_page_viewl"
   ]
  },
  {
   "cell_type": "code",
   "execution_count": 7,
   "metadata": {},
   "outputs": [
    {
     "data": {
      "text/plain": [
       "0.5055541841520612"
      ]
     },
     "execution_count": 7,
     "metadata": {},
     "output_type": "execute_result"
    }
   ],
   "source": [
    "# CTRの計算 (# of detail_page_viewl/ # of ist_page_view)\n",
    "n_detail_page_viewl = df[df.state_name == 'detail_page_view'].shape[0]\n",
    "n_list_page_view = df[df.state_name == 'list_page_view'].shape[0]\n",
    "n_detail_page_viewl / n_list_page_view"
   ]
  },
  {
   "cell_type": "code",
   "execution_count": 8,
   "metadata": {
    "scrolled": true
   },
   "outputs": [
    {
     "name": "stdout",
     "output_type": "stream",
     "text": [
      "n_item_purchase 411\n",
      "n_detail_page_viewl:  2048\n",
      "n_list_page_view:  4051\n"
     ]
    }
   ],
   "source": [
    "# 各ページのPV\n",
    "print(\"n_item_purchase\", n_item_purchase)\n",
    "print(\"n_detail_page_viewl: \", n_detail_page_viewl)\n",
    "print(\"n_list_page_view: \", n_list_page_view)"
   ]
  },
  {
   "cell_type": "code",
   "execution_count": 9,
   "metadata": {},
   "outputs": [
    {
     "data": {
      "text/plain": [
       "<matplotlib.axes._subplots.AxesSubplot at 0x1a172eb358>"
      ]
     },
     "execution_count": 9,
     "metadata": {},
     "output_type": "execute_result"
    },
    {
     "data": {
      "image/png": "[encoded data removed]",
      "text/plain": [
       "<Figure size 432x288 with 1 Axes>"
      ]
     },
     "metadata": {
      "needs_background": "light"
     },
     "output_type": "display_data"
    }
   ],
   "source": [
    "# 時間帯別購入回数\n",
    "tmp_df = df[df.state_name == 'item_purchase']\n",
    "tmp_df.groupby(tmp_df.timestamp.dt.hour).count().user_id.plot(kind='bar')"
   ]
  },
  {
   "cell_type": "markdown",
   "metadata": {},
   "source": [
    "## 課題の分析\n",
    "通常はなんらかの軸（ディメンション）によって分けてみるところからスタートする"
   ]
  },
  {
   "cell_type": "markdown",
   "metadata": {},
   "source": [
    "### 商品別のCVRを分析"
   ]
  },
  {
   "cell_type": "code",
   "execution_count": 10,
   "metadata": {},
   "outputs": [],
   "source": [
    "# 商品ごとのCVRをみてみる\n",
    "#   この「商品ごと」という切り口は分析者の仮説構築力や発想力に基づく\n",
    "viewed_items = df[df.state_name == 'detail_page_view']['items'].value_counts()\n",
    "purchased_items = df[df.state_name == 'item_purchase']['items'].value_counts()\n",
    "item_cvr_df = pd.DataFrame(purchased_items / viewed_items)"
   ]
  },
  {
   "cell_type": "code",
   "execution_count": 11,
   "metadata": {},
   "outputs": [
    {
     "data": {
      "text/plain": [
       "<matplotlib.axes._subplots.AxesSubplot at 0x1a173ec748>"
      ]
     },
     "execution_count": 11,
     "metadata": {},
     "output_type": "execute_result"
    },
    {
     "data": {
      "image/png": "[encoded data removed]",
      "text/plain": [
       "<Figure size 432x288 with 1 Axes>"
      ]
     },
     "metadata": {
      "needs_background": "light"
     },
     "output_type": "display_data"
    }
   ],
   "source": [
    "# 商品閲覧数の分布を確認\n",
    "viewed_items.hist()"
   ]
  },
  {
   "cell_type": "code",
   "execution_count": 12,
   "metadata": {},
   "outputs": [
    {
     "data": {
      "text/plain": [
       "<matplotlib.axes._subplots.AxesSubplot at 0x10aa45390>"
      ]
     },
     "execution_count": 12,
     "metadata": {},
     "output_type": "execute_result"
    },
    {
     "data": {
      "image/png": "[encoded data removed]",
      "text/plain": [
       "<Figure size 432x288 with 1 Axes>"
      ]
     },
     "metadata": {
      "needs_background": "light"
     },
     "output_type": "display_data"
    }
   ],
   "source": [
    "# 購入数の分布を確認\n",
    "purchased_items.hist()"
   ]
  },
  {
   "cell_type": "code",
   "execution_count": 13,
   "metadata": {},
   "outputs": [
    {
     "data": {
      "text/plain": [
       "<matplotlib.axes._subplots.AxesSubplot at 0x1a17e4f0f0>"
      ]
     },
     "execution_count": 13,
     "metadata": {},
     "output_type": "execute_result"
    },
    {
     "data": {
      "image/png": "[encoded data removed]",
      "text/plain": [
       "<Figure size 432x288 with 1 Axes>"
      ]
     },
     "metadata": {
      "needs_background": "light"
     },
     "output_type": "display_data"
    }
   ],
   "source": [
    "# CVRの分布を確認\n",
    "item_cvr_df['items'].hist()"
   ]
  },
  {
   "cell_type": "code",
   "execution_count": 14,
   "metadata": {},
   "outputs": [
    {
     "data": {
      "text/html": [
       "<div>\n",
       "<style scoped>\n",
       "    .dataframe tbody tr th:only-of-type {\n",
       "        vertical-align: middle;\n",
       "    }\n",
       "\n",
       "    .dataframe tbody tr th {\n",
       "        vertical-align: top;\n",
       "    }\n",
       "\n",
       "    .dataframe thead th {\n",
       "        text-align: right;\n",
       "    }\n",
       "</style>\n",
       "<table border=\"1\" class=\"dataframe\">\n",
       "  <thead>\n",
       "    <tr style=\"text-align: right;\">\n",
       "      <th></th>\n",
       "      <th>items</th>\n",
       "    </tr>\n",
       "  </thead>\n",
       "  <tbody>\n",
       "    <tr>\n",
       "      <th>55</th>\n",
       "      <td>0.476190</td>\n",
       "    </tr>\n",
       "    <tr>\n",
       "      <th>85</th>\n",
       "      <td>0.444444</td>\n",
       "    </tr>\n",
       "    <tr>\n",
       "      <th>60</th>\n",
       "      <td>0.384615</td>\n",
       "    </tr>\n",
       "    <tr>\n",
       "      <th>4</th>\n",
       "      <td>0.352941</td>\n",
       "    </tr>\n",
       "    <tr>\n",
       "      <th>59</th>\n",
       "      <td>0.350000</td>\n",
       "    </tr>\n",
       "  </tbody>\n",
       "</table>\n",
       "</div>"
      ],
      "text/plain": [
       "       items\n",
       "55  0.476190\n",
       "85  0.444444\n",
       "60  0.384615\n",
       "4   0.352941\n",
       "59  0.350000"
      ]
     },
     "execution_count": 14,
     "metadata": {},
     "output_type": "execute_result"
    }
   ],
   "source": [
    "# CVRの高い商品\n",
    "item_cvr_df.sort_values(by='items', ascending=False).head()"
   ]
  },
  {
   "cell_type": "code",
   "execution_count": 15,
   "metadata": {},
   "outputs": [
    {
     "data": {
      "text/plain": [
       "(21, 18)"
      ]
     },
     "execution_count": 15,
     "metadata": {},
     "output_type": "execute_result"
    }
   ],
   "source": [
    "# これらの商品はどのくらい見られているのか？（閲覧数が少なくはないか確認）\n",
    "viewed_items['55'], viewed_items['85']"
   ]
  },
  {
   "cell_type": "markdown",
   "metadata": {},
   "source": [
    "### ユーザーセグメントを作って分析"
   ]
  },
  {
   "cell_type": "code",
   "execution_count": 16,
   "metadata": {},
   "outputs": [
    {
     "data": {
      "text/plain": [
       "<matplotlib.axes._subplots.AxesSubplot at 0x1a17f27358>"
      ]
     },
     "execution_count": 16,
     "metadata": {},
     "output_type": "execute_result"
    },
    {
     "data": {
      "image/png": "[encoded data removed]",
      "text/plain": [
       "<Figure size 432x288 with 1 Axes>"
      ]
     },
     "metadata": {
      "needs_background": "light"
     },
     "output_type": "display_data"
    }
   ],
   "source": [
    "# ユーザーごとの購入数をみてみる\n",
    "df[df.state_name == 'item_purchase'].user_id.value_counts().hist()"
   ]
  },
  {
   "cell_type": "code",
   "execution_count": 17,
   "metadata": {},
   "outputs": [],
   "source": [
    "# へービーユーザーとライトユーザーを、6回以上の購入で分ける\n",
    "#   ヘビーユーザーとライトユーザーで行動が異なるのではないかという仮説\n",
    "n_user_purchased_df = pd.DataFrame(df[df.state_name == 'item_purchase'].user_id.value_counts())\n",
    "n_user_purchased_df = n_user_purchased_df.reset_index()\n",
    "n_user_purchased_df.columns = ['user_id', 'n_purchased']\n",
    "merged_df = pd.merge(df, n_user_purchased_df, on='user_id', how='left')\n",
    "merged_df['user_segment'] = merged_df.n_purchased.apply(lambda x: 'heavy' if x >= 6 else 'light')"
   ]
  },
  {
   "cell_type": "code",
   "execution_count": 18,
   "metadata": {},
   "outputs": [
    {
     "data": {
      "text/plain": [
       "light    7878\n",
       "heavy    2844\n",
       "Name: user_segment, dtype: int64"
      ]
     },
     "execution_count": 18,
     "metadata": {},
     "output_type": "execute_result"
    }
   ],
   "source": [
    "# ヘビーユーザーとライトユーザーの数\n",
    "merged_df['user_segment'].value_counts()"
   ]
  },
  {
   "cell_type": "code",
   "execution_count": 19,
   "metadata": {},
   "outputs": [
    {
     "data": {
      "text/html": [
       "<div>\n",
       "<style scoped>\n",
       "    .dataframe tbody tr th:only-of-type {\n",
       "        vertical-align: middle;\n",
       "    }\n",
       "\n",
       "    .dataframe tbody tr th {\n",
       "        vertical-align: top;\n",
       "    }\n",
       "\n",
       "    .dataframe thead th {\n",
       "        text-align: right;\n",
       "    }\n",
       "</style>\n",
       "<table border=\"1\" class=\"dataframe\">\n",
       "  <thead>\n",
       "    <tr style=\"text-align: right;\">\n",
       "      <th></th>\n",
       "      <th>timestamp</th>\n",
       "      <th>user_id</th>\n",
       "      <th>state_id</th>\n",
       "      <th>items</th>\n",
       "      <th>state_name</th>\n",
       "      <th>n_purchased</th>\n",
       "      <th>user_segment</th>\n",
       "    </tr>\n",
       "  </thead>\n",
       "  <tbody>\n",
       "    <tr>\n",
       "      <th>0</th>\n",
       "      <td>2018-06-29 09:00:02+09:00</td>\n",
       "      <td>80</td>\n",
       "      <td>0</td>\n",
       "      <td>NaN</td>\n",
       "      <td>top_page_view</td>\n",
       "      <td>8.0</td>\n",
       "      <td>heavy</td>\n",
       "    </tr>\n",
       "    <tr>\n",
       "      <th>1</th>\n",
       "      <td>2018-06-29 09:00:07+09:00</td>\n",
       "      <td>95</td>\n",
       "      <td>0</td>\n",
       "      <td>NaN</td>\n",
       "      <td>top_page_view</td>\n",
       "      <td>7.0</td>\n",
       "      <td>heavy</td>\n",
       "    </tr>\n",
       "    <tr>\n",
       "      <th>2</th>\n",
       "      <td>2018-06-29 09:00:07+09:00</td>\n",
       "      <td>7</td>\n",
       "      <td>0</td>\n",
       "      <td>NaN</td>\n",
       "      <td>top_page_view</td>\n",
       "      <td>4.0</td>\n",
       "      <td>light</td>\n",
       "    </tr>\n",
       "    <tr>\n",
       "      <th>3</th>\n",
       "      <td>2018-06-29 09:00:08+09:00</td>\n",
       "      <td>21</td>\n",
       "      <td>0</td>\n",
       "      <td>NaN</td>\n",
       "      <td>top_page_view</td>\n",
       "      <td>6.0</td>\n",
       "      <td>heavy</td>\n",
       "    </tr>\n",
       "    <tr>\n",
       "      <th>4</th>\n",
       "      <td>2018-06-29 09:00:09+09:00</td>\n",
       "      <td>17</td>\n",
       "      <td>0</td>\n",
       "      <td>NaN</td>\n",
       "      <td>top_page_view</td>\n",
       "      <td>6.0</td>\n",
       "      <td>heavy</td>\n",
       "    </tr>\n",
       "  </tbody>\n",
       "</table>\n",
       "</div>"
      ],
      "text/plain": [
       "                  timestamp  user_id  state_id items     state_name  \\\n",
       "0 2018-06-29 09:00:02+09:00       80         0   NaN  top_page_view   \n",
       "1 2018-06-29 09:00:07+09:00       95         0   NaN  top_page_view   \n",
       "2 2018-06-29 09:00:07+09:00        7         0   NaN  top_page_view   \n",
       "3 2018-06-29 09:00:08+09:00       21         0   NaN  top_page_view   \n",
       "4 2018-06-29 09:00:09+09:00       17         0   NaN  top_page_view   \n",
       "\n",
       "   n_purchased user_segment  \n",
       "0          8.0        heavy  \n",
       "1          7.0        heavy  \n",
       "2          4.0        light  \n",
       "3          6.0        heavy  \n",
       "4          6.0        heavy  "
      ]
     },
     "execution_count": 19,
     "metadata": {},
     "output_type": "execute_result"
    }
   ],
   "source": [
    "merged_df.head()"
   ]
  },
  {
   "cell_type": "code",
   "execution_count": 20,
   "metadata": {},
   "outputs": [],
   "source": [
    "# ヘビーユーザーとライトユーザーで人気な商品に違いはあるか？\n",
    "#[['user_segment', 'items', 'timestamp']].groupby('user_segment').count()\n",
    "purchased_df = merged_df[merged_df.state_name == 'item_purchase']\n",
    "segmented_purchased_df = pd.crosstab(purchased_df['user_segment'], purchased_df['items'], normalize='index').T"
   ]
  },
  {
   "cell_type": "code",
   "execution_count": 21,
   "metadata": {},
   "outputs": [
    {
     "data": {
      "text/html": [
       "<div>\n",
       "<style scoped>\n",
       "    .dataframe tbody tr th:only-of-type {\n",
       "        vertical-align: middle;\n",
       "    }\n",
       "\n",
       "    .dataframe tbody tr th {\n",
       "        vertical-align: top;\n",
       "    }\n",
       "\n",
       "    .dataframe thead th {\n",
       "        text-align: right;\n",
       "    }\n",
       "</style>\n",
       "<table border=\"1\" class=\"dataframe\">\n",
       "  <thead>\n",
       "    <tr style=\"text-align: right;\">\n",
       "      <th>user_segment</th>\n",
       "      <th>heavy</th>\n",
       "      <th>light</th>\n",
       "      <th>ratio</th>\n",
       "    </tr>\n",
       "    <tr>\n",
       "      <th>items</th>\n",
       "      <th></th>\n",
       "      <th></th>\n",
       "      <th></th>\n",
       "    </tr>\n",
       "  </thead>\n",
       "  <tbody>\n",
       "    <tr>\n",
       "      <th>94</th>\n",
       "      <td>0.005988</td>\n",
       "      <td>0.020492</td>\n",
       "      <td>3.422131</td>\n",
       "    </tr>\n",
       "    <tr>\n",
       "      <th>80</th>\n",
       "      <td>0.005988</td>\n",
       "      <td>0.016393</td>\n",
       "      <td>2.737705</td>\n",
       "    </tr>\n",
       "    <tr>\n",
       "      <th>10</th>\n",
       "      <td>0.005988</td>\n",
       "      <td>0.016393</td>\n",
       "      <td>2.737705</td>\n",
       "    </tr>\n",
       "    <tr>\n",
       "      <th>55</th>\n",
       "      <td>0.011976</td>\n",
       "      <td>0.032787</td>\n",
       "      <td>2.737705</td>\n",
       "    </tr>\n",
       "    <tr>\n",
       "      <th>9</th>\n",
       "      <td>0.005988</td>\n",
       "      <td>0.016393</td>\n",
       "      <td>2.737705</td>\n",
       "    </tr>\n",
       "  </tbody>\n",
       "</table>\n",
       "</div>"
      ],
      "text/plain": [
       "user_segment     heavy     light     ratio\n",
       "items                                     \n",
       "94            0.005988  0.020492  3.422131\n",
       "80            0.005988  0.016393  2.737705\n",
       "10            0.005988  0.016393  2.737705\n",
       "55            0.011976  0.032787  2.737705\n",
       "9             0.005988  0.016393  2.737705"
      ]
     },
     "execution_count": 21,
     "metadata": {},
     "output_type": "execute_result"
    }
   ],
   "source": [
    "# ライトユーザーの方がよく売れている商品\n",
    "segmented_purchased_df['ratio'] =  segmented_purchased_df.light / segmented_purchased_df.heavy\n",
    "segmented_purchased_df[segmented_purchased_df.heavy != 0].sort_values(by='ratio', ascending=False).head()"
   ]
  },
  {
   "cell_type": "code",
   "execution_count": 22,
   "metadata": {},
   "outputs": [
    {
     "data": {
      "text/html": [
       "<div>\n",
       "<style scoped>\n",
       "    .dataframe tbody tr th:only-of-type {\n",
       "        vertical-align: middle;\n",
       "    }\n",
       "\n",
       "    .dataframe tbody tr th {\n",
       "        vertical-align: top;\n",
       "    }\n",
       "\n",
       "    .dataframe thead th {\n",
       "        text-align: right;\n",
       "    }\n",
       "</style>\n",
       "<table border=\"1\" class=\"dataframe\">\n",
       "  <thead>\n",
       "    <tr style=\"text-align: right;\">\n",
       "      <th>user_segment</th>\n",
       "      <th>heavy</th>\n",
       "      <th>light</th>\n",
       "      <th>ratio</th>\n",
       "    </tr>\n",
       "    <tr>\n",
       "      <th>items</th>\n",
       "      <th></th>\n",
       "      <th></th>\n",
       "      <th></th>\n",
       "    </tr>\n",
       "  </thead>\n",
       "  <tbody>\n",
       "    <tr>\n",
       "      <th>92</th>\n",
       "      <td>0.023952</td>\n",
       "      <td>0.004098</td>\n",
       "      <td>5.844311</td>\n",
       "    </tr>\n",
       "    <tr>\n",
       "      <th>83</th>\n",
       "      <td>0.023952</td>\n",
       "      <td>0.004098</td>\n",
       "      <td>5.844311</td>\n",
       "    </tr>\n",
       "    <tr>\n",
       "      <th>99</th>\n",
       "      <td>0.017964</td>\n",
       "      <td>0.004098</td>\n",
       "      <td>4.383234</td>\n",
       "    </tr>\n",
       "    <tr>\n",
       "      <th>74</th>\n",
       "      <td>0.029940</td>\n",
       "      <td>0.008197</td>\n",
       "      <td>3.652695</td>\n",
       "    </tr>\n",
       "    <tr>\n",
       "      <th>30</th>\n",
       "      <td>0.011976</td>\n",
       "      <td>0.004098</td>\n",
       "      <td>2.922156</td>\n",
       "    </tr>\n",
       "  </tbody>\n",
       "</table>\n",
       "</div>"
      ],
      "text/plain": [
       "user_segment     heavy     light     ratio\n",
       "items                                     \n",
       "92            0.023952  0.004098  5.844311\n",
       "83            0.023952  0.004098  5.844311\n",
       "99            0.017964  0.004098  4.383234\n",
       "74            0.029940  0.008197  3.652695\n",
       "30            0.011976  0.004098  2.922156"
      ]
     },
     "execution_count": 22,
     "metadata": {},
     "output_type": "execute_result"
    }
   ],
   "source": [
    "# ヘビーユーザーの方がよく売れている商品\n",
    "segmented_purchased_df['ratio'] =  segmented_purchased_df.heavy / segmented_purchased_df.light\n",
    "segmented_purchased_df[segmented_purchased_df.light != 0].sort_values(by='ratio', ascending=False).head()"
   ]
  },
  {
   "cell_type": "markdown",
   "metadata": {},
   "source": [
    "## ここまでで分かったことをまとめる\n",
    "\n",
    "### Webサイトの主要指標\n",
    "- DAU ... 100\n",
    "- CVR ... 0.20068359375\n",
    "- CTR ... 0.5055541841520612\n",
    "- PV\n",
    "  - n_item_purchase 411\n",
    "  - n_detail_page_viewl:  2048\n",
    "  - n_list_page_view:  4051\n",
    "  \n",
    "（上記のデータを用いて以下のようなファネル図を作るのも効果的、数値はてきとう）\n",
    "\n",
    "\n",
    "<img src=\"https://qiita-user-contents.imgix.net/https%3A%2F%2Fqiita-image-store.s3.ap-northeast-1.amazonaws.com%2F0%2F108223%2F17836200-0608-7aa0-ae68-20e63ef27ca2.png?ixlib=rb-1.2.2&auto=format&gif-q=60&q=75&s=0422d2139365dcba4ee24b1cc9ba9b30\">\n",
    "\n",
    "### 商品別の分析\n",
    "- CVRが非常に高い商品群がある\n",
    "- 施策案：広告などの費用対効果が高いと考えられ、これらの商品を元にマーケティング施策を打つのは効果的かもしれない\n",
    "\n",
    "### ユーザーセグメント別の分析\n",
    "- よく商品を購入しているユーザー(n>5)と、あまり商品を購入していないユーザーに分けて分析したところ、購入商品の傾向の違いがみられた\n",
    "- 施策案：ライトユーザー向けとヘビーユーザー向けの商品を分けて推薦すると効果的かもしれない"
   ]
  },
  {
   "cell_type": "markdown",
   "metadata": {},
   "source": [
    "# 大事な注意\n",
    "- ここまで分析してきた内容はそもそもがシミュレーションに基づいてランダムにデータを生成したもの\n",
    "- つまり上記で得られた傾向は全て「偶然の結果」と言える\n",
    "- 現実のデータ分析では、**偶然にも関わらず**、それを説明付けるもっともらしい仮説が考えられることがある\n",
    "- 上記はシミュレーションデータによる分析ではあるが、実際のデータ分析では「商品の性質」や「ユーザーの性質」、「Webサイトの性質」、「世の中の状態」など様々な変数を考慮して分析を進める必要があることを常に注意して欲しい"
   ]
  }
 ],
 "metadata": {
  "kernelspec": {
   "display_name": "Python 3",
   "language": "python",
   "name": "python3"
  },
  "language_info": {
   "codemirror_mode": {
    "name": "ipython",
    "version": 3
   },
   "file_extension": ".py",
   "mimetype": "text/x-python",
   "name": "python",
   "nbconvert_exporter": "python",
   "pygments_lexer": "ipython3",
   "version": "3.7.2"
  }
 },
 "nbformat": 4,
 "nbformat_minor": 2
}
