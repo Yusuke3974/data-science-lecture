{
 "cells": [
  {
   "cell_type": "markdown",
   "metadata": {},
   "source": [
    "# パターン発見\n",
    "ここで言うパターン発見とは「データから規則性を見出し、データの傾向や類似性を見つける」ことであり、機械学習では「教師なし学習」と呼ばれ以下の2つに分類できる。\n",
    "\n",
    "- クラスタリング … 複数データをいくつかの類似グループに分ける手法\n",
    "- 次元圧縮(次元削減) … 出来るだけ意味を保ったままデータ量を削減する手法\n",
    "\n",
    "パターン発見と一緒にここで紹介する「類似」と言う概念は、様々なデータについてその類似性を計算する手法である。\n",
    "多くの場合、どの程度類似しているかと言うのは距離と言う概念で考えることができるので、そのことについて確認する。"
   ]
  },
  {
   "cell_type": "markdown",
   "metadata": {},
   "source": [
    "## クラスタリング\n",
    "多数のデータをいくつかの類似したグループに分ける手法であり、実務ではユーザーのセグメンテーションやターゲティングなどに用いられる。\n",
    "\n",
    "- セグメンテーション ... 対象をいくつかのグループに分けてどのような分類して特徴付けること\n",
    "- ターゲティング ... 対象の中で特に重要な部分にフォーカスすること\n",
    "\n",
    "クラスタリングについても予測手法と同様様々な方法があるが、ここでは「Movie Lens」と言うデータセットを用い、代表的なk-meansと言う手法を通してクラスタリングの流れを確認する。k-meansの中身を知りたい場合は以下の書籍がおすすめ。\n",
    "\n",
    "- 概要を知りたい場合: 『[Python機械学習プログラミング 達人データサイエンティストによる理論と実践](https://www.amazon.co.jp/dp/B01HGIPIAK)』の11章\n",
    "- 詳細を理解したい場合: 『[続・わかりやすい　パターン認識 －教師なし学習入門－](https://www.amazon.co.jp/dp/B081G8Y5SD/)』の10章"
   ]
  },
  {
   "cell_type": "markdown",
   "metadata": {},
   "source": [
    "## Movie Lens\n",
    "> F. Maxwell Harper and Joseph A. Konstan. 2015. The MovieLens Datasets: History and Context. ACM Transactions on Interactive Intelligent Systems (TiiS) 5, 4, Article 19 (December 2015), 19 pages. DOI=http://dx.doi.org/10.1145/2827872\n",
    "\n",
    "- 映画のレビューサイトでの映画の情報とユーザーによる評価のデータ\n",
    "- 本来は推薦システムの構築評価を目的としてデータセットだが、データ分析の題材としても面白いので用いる\n",
    "\n",
    "### 映画情報\n",
    "Movie Lensデータは映画情報のデータ、ユーザーのデータ、ユーザーの評価データなどから構成されるが、今回用いる映画情報のデータは以下のような列で構成される。\n",
    "\n",
    "- movie id ... 映画のID\n",
    "- movie title ... 映画のタイトル\n",
    "- release date ... リリース日\n",
    "- video release date ... ビデオのリリース日\n",
    "- IMDb URL ... データセットの元となるURL（アクセスすると情報が見れる）\n",
    "- 映画のジャンル情報（19列分ある、条件が一致する場合1でそうでない場合は0となる）"
   ]
  },
  {
   "cell_type": "code",
   "execution_count": 41,
   "metadata": {},
   "outputs": [],
   "source": [
    "# 必要なライブラリの読み込み\n",
    "import pandas as pd\n",
    "import numpy as np\n",
    "\n",
    "# 可視化\n",
    "import matplotlib.pyplot as plt\n",
    "import seaborn as sns\n",
    "%matplotlib inline"
   ]
  },
  {
   "cell_type": "code",
   "execution_count": 25,
   "metadata": {},
   "outputs": [],
   "source": [
    "# データセットの読み込み\n",
    "url = 'http://files.grouplens.org/datasets/movielens/ml-100k/u.item'\n",
    "movie_df = pd.read_csv(url, sep='|', header=None, encoding='latin-1')"
   ]
  },
  {
   "cell_type": "code",
   "execution_count": 27,
   "metadata": {},
   "outputs": [],
   "source": [
    "# 列情報の追加\n",
    "# ホームページから取得 http://files.grouplens.org/datasets/movielens/ml-100k-README.txt\n",
    "col_info = \"id | movie title | release date | video release date | IMDb URL | unknown | Action | Adventure | Animation | Children's | Comedy | Crime | Documentary | Drama | Fantasy | Film-Noir | Horror | Musical | Mystery | Romance | Sci-Fi | Thriller | War | Western\"\n",
    "col_names = col_info.split(\" | \")\n",
    "\n",
    "# 列名を追加\n",
    "movie_df.columns = col_names"
   ]
  },
  {
   "cell_type": "code",
   "execution_count": 29,
   "metadata": {},
   "outputs": [
    {
     "name": "stdout",
     "output_type": "stream",
     "text": [
      "データフレームの形:  (1682, 24)\n"
     ]
    },
    {
     "data": {
      "text/html": [
       "<div>\n",
       "<style scoped>\n",
       "    .dataframe tbody tr th:only-of-type {\n",
       "        vertical-align: middle;\n",
       "    }\n",
       "\n",
       "    .dataframe tbody tr th {\n",
       "        vertical-align: top;\n",
       "    }\n",
       "\n",
       "    .dataframe thead th {\n",
       "        text-align: right;\n",
       "    }\n",
       "</style>\n",
       "<table border=\"1\" class=\"dataframe\">\n",
       "  <thead>\n",
       "    <tr style=\"text-align: right;\">\n",
       "      <th></th>\n",
       "      <th>id</th>\n",
       "      <th>movie title</th>\n",
       "      <th>release date</th>\n",
       "      <th>video release date</th>\n",
       "      <th>IMDb URL</th>\n",
       "      <th>unknown</th>\n",
       "      <th>Action</th>\n",
       "      <th>Adventure</th>\n",
       "      <th>Animation</th>\n",
       "      <th>Children's</th>\n",
       "      <th>...</th>\n",
       "      <th>Fantasy</th>\n",
       "      <th>Film-Noir</th>\n",
       "      <th>Horror</th>\n",
       "      <th>Musical</th>\n",
       "      <th>Mystery</th>\n",
       "      <th>Romance</th>\n",
       "      <th>Sci-Fi</th>\n",
       "      <th>Thriller</th>\n",
       "      <th>War</th>\n",
       "      <th>Western</th>\n",
       "    </tr>\n",
       "  </thead>\n",
       "  <tbody>\n",
       "    <tr>\n",
       "      <th>0</th>\n",
       "      <td>1</td>\n",
       "      <td>Toy Story (1995)</td>\n",
       "      <td>01-Jan-1995</td>\n",
       "      <td>NaN</td>\n",
       "      <td>http://us.imdb.com/M/title-exact?Toy%20Story%2...</td>\n",
       "      <td>0</td>\n",
       "      <td>0</td>\n",
       "      <td>0</td>\n",
       "      <td>1</td>\n",
       "      <td>1</td>\n",
       "      <td>...</td>\n",
       "      <td>0</td>\n",
       "      <td>0</td>\n",
       "      <td>0</td>\n",
       "      <td>0</td>\n",
       "      <td>0</td>\n",
       "      <td>0</td>\n",
       "      <td>0</td>\n",
       "      <td>0</td>\n",
       "      <td>0</td>\n",
       "      <td>0</td>\n",
       "    </tr>\n",
       "    <tr>\n",
       "      <th>1</th>\n",
       "      <td>2</td>\n",
       "      <td>GoldenEye (1995)</td>\n",
       "      <td>01-Jan-1995</td>\n",
       "      <td>NaN</td>\n",
       "      <td>http://us.imdb.com/M/title-exact?GoldenEye%20(...</td>\n",
       "      <td>0</td>\n",
       "      <td>1</td>\n",
       "      <td>1</td>\n",
       "      <td>0</td>\n",
       "      <td>0</td>\n",
       "      <td>...</td>\n",
       "      <td>0</td>\n",
       "      <td>0</td>\n",
       "      <td>0</td>\n",
       "      <td>0</td>\n",
       "      <td>0</td>\n",
       "      <td>0</td>\n",
       "      <td>0</td>\n",
       "      <td>1</td>\n",
       "      <td>0</td>\n",
       "      <td>0</td>\n",
       "    </tr>\n",
       "    <tr>\n",
       "      <th>2</th>\n",
       "      <td>3</td>\n",
       "      <td>Four Rooms (1995)</td>\n",
       "      <td>01-Jan-1995</td>\n",
       "      <td>NaN</td>\n",
       "      <td>http://us.imdb.com/M/title-exact?Four%20Rooms%...</td>\n",
       "      <td>0</td>\n",
       "      <td>0</td>\n",
       "      <td>0</td>\n",
       "      <td>0</td>\n",
       "      <td>0</td>\n",
       "      <td>...</td>\n",
       "      <td>0</td>\n",
       "      <td>0</td>\n",
       "      <td>0</td>\n",
       "      <td>0</td>\n",
       "      <td>0</td>\n",
       "      <td>0</td>\n",
       "      <td>0</td>\n",
       "      <td>1</td>\n",
       "      <td>0</td>\n",
       "      <td>0</td>\n",
       "    </tr>\n",
       "    <tr>\n",
       "      <th>3</th>\n",
       "      <td>4</td>\n",
       "      <td>Get Shorty (1995)</td>\n",
       "      <td>01-Jan-1995</td>\n",
       "      <td>NaN</td>\n",
       "      <td>http://us.imdb.com/M/title-exact?Get%20Shorty%...</td>\n",
       "      <td>0</td>\n",
       "      <td>1</td>\n",
       "      <td>0</td>\n",
       "      <td>0</td>\n",
       "      <td>0</td>\n",
       "      <td>...</td>\n",
       "      <td>0</td>\n",
       "      <td>0</td>\n",
       "      <td>0</td>\n",
       "      <td>0</td>\n",
       "      <td>0</td>\n",
       "      <td>0</td>\n",
       "      <td>0</td>\n",
       "      <td>0</td>\n",
       "      <td>0</td>\n",
       "      <td>0</td>\n",
       "    </tr>\n",
       "    <tr>\n",
       "      <th>4</th>\n",
       "      <td>5</td>\n",
       "      <td>Copycat (1995)</td>\n",
       "      <td>01-Jan-1995</td>\n",
       "      <td>NaN</td>\n",
       "      <td>http://us.imdb.com/M/title-exact?Copycat%20(1995)</td>\n",
       "      <td>0</td>\n",
       "      <td>0</td>\n",
       "      <td>0</td>\n",
       "      <td>0</td>\n",
       "      <td>0</td>\n",
       "      <td>...</td>\n",
       "      <td>0</td>\n",
       "      <td>0</td>\n",
       "      <td>0</td>\n",
       "      <td>0</td>\n",
       "      <td>0</td>\n",
       "      <td>0</td>\n",
       "      <td>0</td>\n",
       "      <td>1</td>\n",
       "      <td>0</td>\n",
       "      <td>0</td>\n",
       "    </tr>\n",
       "  </tbody>\n",
       "</table>\n",
       "<p>5 rows × 24 columns</p>\n",
       "</div>"
      ],
      "text/plain": [
       "   id        movie title release date  video release date  \\\n",
       "0   1   Toy Story (1995)  01-Jan-1995                 NaN   \n",
       "1   2   GoldenEye (1995)  01-Jan-1995                 NaN   \n",
       "2   3  Four Rooms (1995)  01-Jan-1995                 NaN   \n",
       "3   4  Get Shorty (1995)  01-Jan-1995                 NaN   \n",
       "4   5     Copycat (1995)  01-Jan-1995                 NaN   \n",
       "\n",
       "                                            IMDb URL  unknown  Action  \\\n",
       "0  http://us.imdb.com/M/title-exact?Toy%20Story%2...        0       0   \n",
       "1  http://us.imdb.com/M/title-exact?GoldenEye%20(...        0       1   \n",
       "2  http://us.imdb.com/M/title-exact?Four%20Rooms%...        0       0   \n",
       "3  http://us.imdb.com/M/title-exact?Get%20Shorty%...        0       1   \n",
       "4  http://us.imdb.com/M/title-exact?Copycat%20(1995)        0       0   \n",
       "\n",
       "   Adventure  Animation  Children's  ...  Fantasy  Film-Noir  Horror  Musical  \\\n",
       "0          0          1           1  ...        0          0       0        0   \n",
       "1          1          0           0  ...        0          0       0        0   \n",
       "2          0          0           0  ...        0          0       0        0   \n",
       "3          0          0           0  ...        0          0       0        0   \n",
       "4          0          0           0  ...        0          0       0        0   \n",
       "\n",
       "   Mystery  Romance  Sci-Fi  Thriller  War  Western  \n",
       "0        0        0       0         0    0        0  \n",
       "1        0        0       0         1    0        0  \n",
       "2        0        0       0         1    0        0  \n",
       "3        0        0       0         0    0        0  \n",
       "4        0        0       0         1    0        0  \n",
       "\n",
       "[5 rows x 24 columns]"
      ]
     },
     "execution_count": 29,
     "metadata": {},
     "output_type": "execute_result"
    }
   ],
   "source": [
    "print(\"データフレームの形: \", movie_df.shape)\n",
    "movie_df.head()"
   ]
  },
  {
   "cell_type": "markdown",
   "metadata": {},
   "source": [
    "## クラスタリングの流れ\n",
    "クラスタリングの流れも予測の時と同様に以下のようなステップを踏むことが多い。\n",
    "\n",
    "1. データの準備\n",
    "2. クラスタリングの実行\n",
    "3. データの解釈を進める\n",
    "\n",
    "ここでは映画をそのジャンル情報に基づいて分類してみる。\n",
    "\n",
    "実際の業務では「現在のジャンル分類方法に変わる、もう少し大まかななジャンルがあればそれを元にユーザーにリーチしたい」といった課題例がある。"
   ]
  },
  {
   "cell_type": "code",
   "execution_count": 52,
   "metadata": {},
   "outputs": [],
   "source": [
    "# データの準備\n",
    "#   今回はすでにMovie Lensデータを読み込んでいるので、利用する特徴量（列）を絞り込むところからスタートする。\n",
    "#   ジャンル情報列のみ抽出して入力データを作成する\n",
    "X = movie_df[col_names[5:]]"
   ]
  },
  {
   "cell_type": "code",
   "execution_count": 101,
   "metadata": {},
   "outputs": [],
   "source": [
    "# クラスタリングの実行\n",
    "\n",
    "# KMeansクラスの読み込み\n",
    "from sklearn.cluster import KMeans\n",
    "\n",
    "# 分類するグループ数（クラスタ数）を指定して実行\n",
    "#   注意）\n",
    "#   最適なクラスタ数は探索的にデータを分析したり、「エルボー法」などと呼ばれる方法を使って推定することが多い\n",
    "#   今回は練習のために「3」で決め打ち\n",
    "kmeans = KMeans(n_clusters=4, random_state=0).fit(X)"
   ]
  },
  {
   "cell_type": "code",
   "execution_count": 102,
   "metadata": {},
   "outputs": [],
   "source": [
    "# 予測データを元のデータと組み合わせる\n",
    "movie_df['cluster_label'] = kmeans.labels_"
   ]
  },
  {
   "cell_type": "code",
   "execution_count": 113,
   "metadata": {},
   "outputs": [
    {
     "data": {
      "text/plain": [
       "0    208\n",
       "1    721\n",
       "2    403\n",
       "3    350\n",
       "Name: cluster_label, dtype: int64"
      ]
     },
     "execution_count": 113,
     "metadata": {},
     "output_type": "execute_result"
    }
   ],
   "source": [
    "# それぞれのクラスタのデータサイズを確認する\n",
    "label_size = movie_df['cluster_label'].value_counts().sort_index()\n",
    "label_size"
   ]
  },
  {
   "cell_type": "code",
   "execution_count": 114,
   "metadata": {},
   "outputs": [
    {
     "data": {
      "text/plain": [
       "0    0.123662\n",
       "1    0.428656\n",
       "2    0.239596\n",
       "3    0.208086\n",
       "Name: cluster_label, dtype: float64"
      ]
     },
     "execution_count": 114,
     "metadata": {},
     "output_type": "execute_result"
    }
   ],
   "source": [
    "# それぞれのクラスタのデータ数割合も確認する\n",
    "label_size / label_size.sum()"
   ]
  },
  {
   "cell_type": "code",
   "execution_count": 103,
   "metadata": {},
   "outputs": [],
   "source": [
    "# 結果の解釈\n",
    "#   それぞれのクラスタがどのようなジャンルになっているかを確認することで解釈をする\n",
    "#   ここではそれぞれのクラスタのジャンルの個数の割合がどうなっているかを確認する\n",
    "cluster_genre_df = movie_df[col_names[5:] + ['cluster_label']].groupby('cluster_label').sum().T"
   ]
  },
  {
   "cell_type": "code",
   "execution_count": 104,
   "metadata": {},
   "outputs": [],
   "source": [
    "cluster_genre_ratio_df = (cluster_genre_df / cluster_genre_df.sum())"
   ]
  },
  {
   "cell_type": "code",
   "execution_count": 105,
   "metadata": {},
   "outputs": [
    {
     "data": {
      "text/html": [
       "<div>\n",
       "<style scoped>\n",
       "    .dataframe tbody tr th:only-of-type {\n",
       "        vertical-align: middle;\n",
       "    }\n",
       "\n",
       "    .dataframe tbody tr th {\n",
       "        vertical-align: top;\n",
       "    }\n",
       "\n",
       "    .dataframe thead th {\n",
       "        text-align: right;\n",
       "    }\n",
       "</style>\n",
       "<table border=\"1\" class=\"dataframe\">\n",
       "  <thead>\n",
       "    <tr style=\"text-align: right;\">\n",
       "      <th>cluster_label</th>\n",
       "      <th>0</th>\n",
       "      <th>1</th>\n",
       "      <th>2</th>\n",
       "      <th>3</th>\n",
       "    </tr>\n",
       "  </thead>\n",
       "  <tbody>\n",
       "    <tr>\n",
       "      <th>unknown</th>\n",
       "      <td>0.000000</td>\n",
       "      <td>0.000000</td>\n",
       "      <td>0.000000</td>\n",
       "      <td>0.003650</td>\n",
       "    </tr>\n",
       "    <tr>\n",
       "      <th>Action</th>\n",
       "      <td>0.261538</td>\n",
       "      <td>0.035745</td>\n",
       "      <td>0.027692</td>\n",
       "      <td>0.100365</td>\n",
       "    </tr>\n",
       "    <tr>\n",
       "      <th>Adventure</th>\n",
       "      <td>0.226923</td>\n",
       "      <td>0.008511</td>\n",
       "      <td>0.007692</td>\n",
       "      <td>0.003650</td>\n",
       "    </tr>\n",
       "    <tr>\n",
       "      <th>Animation</th>\n",
       "      <td>0.059615</td>\n",
       "      <td>0.000000</td>\n",
       "      <td>0.012308</td>\n",
       "      <td>0.005474</td>\n",
       "    </tr>\n",
       "    <tr>\n",
       "      <th>Children's</th>\n",
       "      <td>0.126923</td>\n",
       "      <td>0.016170</td>\n",
       "      <td>0.056923</td>\n",
       "      <td>0.000000</td>\n",
       "    </tr>\n",
       "  </tbody>\n",
       "</table>\n",
       "</div>"
      ],
      "text/plain": [
       "cluster_label         0         1         2         3\n",
       "unknown        0.000000  0.000000  0.000000  0.003650\n",
       "Action         0.261538  0.035745  0.027692  0.100365\n",
       "Adventure      0.226923  0.008511  0.007692  0.003650\n",
       "Animation      0.059615  0.000000  0.012308  0.005474\n",
       "Children's     0.126923  0.016170  0.056923  0.000000"
      ]
     },
     "execution_count": 105,
     "metadata": {},
     "output_type": "execute_result"
    }
   ],
   "source": [
    "cluster_genre_ratio_df.head()"
   ]
  },
  {
   "cell_type": "code",
   "execution_count": 106,
   "metadata": {},
   "outputs": [
    {
     "data": {
      "text/plain": [
       "<matplotlib.axes._subplots.AxesSubplot at 0x1a2014f208>"
      ]
     },
     "execution_count": 106,
     "metadata": {},
     "output_type": "execute_result"
    },
    {
     "data": {
      "image/png": "[encoded data removed]",
      "text/plain": [
       "<Figure size 432x288 with 2 Axes>"
      ]
     },
     "metadata": {
      "needs_background": "light"
     },
     "output_type": "display_data"
    }
   ],
   "source": [
    "#   ヒートマップと呼ばれる可視化手法が使われることが多い\n",
    "sns.heatmap(cluster_genre_ratio_df, cmap='Blues')"
   ]
  },
  {
   "cell_type": "markdown",
   "metadata": {},
   "source": [
    "### データの解釈\n",
    "このフェーズではやや詩人のような心が必要となる。データの傾向を把握できるように、それぞれのクラスタについて分かりやすい解釈を与えられるように意識する。\n",
    "\n",
    "- **クラスタ0** ... Action、Adventure、Children's、Sci-Fiといったジャンルが特徴的な「アクションア/ドベンチャー/SF/子供向け」のジャンルと考えられる（12.3%）\n",
    "- **クラスタ1** ... Dramaが特に特徴的で「ドラマ系」のクラスタと考えられる（42.9%）\n",
    "- **クラスタ2** ... ComedyやRomanceが特徴的で「ロマンス/コメディー」のクラスタと考えられる （24.0%）\n",
    "- **クラスタ3** ... Thrillerを中心として多くのジャンルが含まれているのが特徴的であり「スリラー/その他」のクラスタ（20.8%）\n",
    "\n",
    "このように、1682本の映画をジャンル情報を元に、4つの特徴あるグループに分類することができた。\n",
    "\n",
    "人手で2000本近い映画を4つのグループに分けるのは非常に骨の折れる作業であることを考えると、クラスタリングの威力を実感できるだろう。"
   ]
  },
  {
   "cell_type": "markdown",
   "metadata": {},
   "source": [
    "## 次元圧縮(次元削減)\n",
    "大量の特徴量を出来るだけ意味を失わないように、少数の特徴量に変換する手法であり、その目的は主に以下の2つがある。\n",
    "\n",
    "- 予測のための前処理\n",
    "- データ可視化のための補助\n",
    "\n",
    "ここでは、後者の「データ可視化のための補助」と言う文脈の次元圧縮を紹介する。\n",
    "前の項目と同様に次元圧縮は様々な手法があるが、ここではMovie Lensデータを用い、次元圧縮の代表的な手法である主成分分析（Principle Component Analysis: PCA）による流れを確認していく。"
   ]
  },
  {
   "cell_type": "markdown",
   "metadata": {},
   "source": [
    "### 次元圧縮の流れ\n",
    "次元圧縮の流れもクラスタリングの時と同様なステップを踏むことが多い。\n",
    "\n",
    "1. データの準備\n",
    "2. 次元圧縮の実行\n",
    "3. データを眺める\n",
    "\n",
    "ここでは映画データのそのジャンル特徴量（19コ）を次元圧縮によって2つの新たな特徴量に変換することに挑戦する。\n",
    "\n",
    "実際の業務では「それぞれの映画の関係を知りたいが、19個も特徴量があると可視化して表しにくいので、なんとかして二次元平面でプロットして全体像を把握したい」といった課題例があげられる。"
   ]
  },
  {
   "cell_type": "markdown",
   "metadata": {},
   "source": [
    "### 主成分分析\n",
    "主成分分析の概要を押さえる。\n",
    "\n",
    "- 主成分分析は行列データ（今まで扱っているような表データ）から行列データへの変換処理である\n",
    "- 変換された行列データの列は0番目から順に重要度を持っている\n",
    "  - 例えば10列の表データをインプットとした場合、変換後の表データは以下のような情報をもつ\n",
    "      - 1列目→重要度0.8\n",
    "      - 2列目→重要度0.1\n",
    "      - 3列目→重要度0.5\n",
    "      - ... といった形になる\n",
    "- 何列目までのデータを使って、元の表データの近似とするかは都度判断が必要\n",
    "\n",
    "参考文献は以下がおすすめ。\n",
    "\n",
    "- 概要を知りたい場合: 『[Python機械学習プログラミング 達人データサイエンティストによる理論と実践](https://www.amazon.co.jp/dp/B01HGIPIAK)』の5章\n",
    "- 詳細を知りたい場合: [主成分分析(PCA)の数学的な理論とPythonによる実装](https://noppoman.github.io/mathematical-theory-of-pca-ja/)"
   ]
  },
  {
   "cell_type": "code",
   "execution_count": 115,
   "metadata": {},
   "outputs": [],
   "source": [
    "# データの準備\n",
    "#   ジャンル情報列のみ抽出して入力データを作成する\n",
    "X = movie_df[col_names[5:]]"
   ]
  },
  {
   "cell_type": "code",
   "execution_count": 273,
   "metadata": {},
   "outputs": [],
   "source": [
    "# 次元圧縮のクラスを読み込み\n",
    "from sklearn.decomposition import PCA\n",
    "\n",
    "# 次元圧縮を実行\n",
    "pca = PCA(n_components=2)\n",
    "X_pca = pca.fit_transform(X)"
   ]
  },
  {
   "cell_type": "code",
   "execution_count": 274,
   "metadata": {},
   "outputs": [
    {
     "name": "stdout",
     "output_type": "stream",
     "text": [
      "分散説明率 [0.2315764  0.17370217]\n",
      "累積分散説明率 0.4052785736776403\n"
     ]
    }
   ],
   "source": [
    "# それぞれの列の分散説明率（上記の説明での重要度に相当）を確認\n",
    "#   元データの何割ほど説明ができているかを表す指標\n",
    "print(\"分散説明率\", pca.explained_variance_ratio_)\n",
    "print(\"累積分散説明率\", pca.explained_variance_ratio_.sum())"
   ]
  },
  {
   "cell_type": "markdown",
   "metadata": {},
   "source": [
    "### データを眺める\n",
    "- ここまでの処理により、2つの軸を用いることによって40%ほどの情報を集約できることがわかった\n",
    "- 反対に2つの軸で表現することによって60%ほどの情報が失われている\n",
    "- これらの軸は計算により自動的に求められたものであるので、より分かりやすくする場合は人手による解釈が必要となる\n",
    "  - 元となる特徴量(列)の組み合わせにより表せることが多いので、今回の場合「SFやアドベンチャーの要素を表す軸」といった解釈ができる場合がある\n",
    "- 新たに得られた特徴量を元に2次元の散布図などを用いてデータの傾向を把握することができる"
   ]
  },
  {
   "cell_type": "code",
   "execution_count": 275,
   "metadata": {},
   "outputs": [
    {
     "data": {
      "text/plain": [
       "<matplotlib.collections.PathCollection at 0x1a2d4b19b0>"
      ]
     },
     "execution_count": 275,
     "metadata": {},
     "output_type": "execute_result"
    },
    {
     "data": {
      "image/png": "[encoded data removed]",
      "text/plain": [
       "<Figure size 432x288 with 1 Axes>"
      ]
     },
     "metadata": {
      "needs_background": "light"
     },
     "output_type": "display_data"
    }
   ],
   "source": [
    "# データの可視化\n",
    "plt.scatter(x=X_pca[:,0], y=X_pca[:,1])"
   ]
  },
  {
   "cell_type": "code",
   "execution_count": 309,
   "metadata": {},
   "outputs": [
    {
     "name": "stderr",
     "output_type": "stream",
     "text": [
      "/Users/tomohiro/.pyenv/versions/anaconda3-5.3.1/lib/python3.7/site-packages/ipykernel_launcher.py:2: SettingWithCopyWarning: \n",
      "A value is trying to be set on a copy of a slice from a DataFrame.\n",
      "Try using .loc[row_indexer,col_indexer] = value instead\n",
      "\n",
      "See the caveats in the documentation: http://pandas.pydata.org/pandas-docs/stable/indexing.html#indexing-view-versus-copy\n",
      "  \n",
      "/Users/tomohiro/.pyenv/versions/anaconda3-5.3.1/lib/python3.7/site-packages/ipykernel_launcher.py:3: SettingWithCopyWarning: \n",
      "A value is trying to be set on a copy of a slice from a DataFrame.\n",
      "Try using .loc[row_indexer,col_indexer] = value instead\n",
      "\n",
      "See the caveats in the documentation: http://pandas.pydata.org/pandas-docs/stable/indexing.html#indexing-view-versus-copy\n",
      "  This is separate from the ipykernel package so we can avoid doing imports until\n"
     ]
    }
   ],
   "source": [
    "pca_movie_df = movie_df[['movie title']]\n",
    "pca_movie_df['pca1'] = X_pca[:,0]\n",
    "pca_movie_df['pca2'] = X_pca[:,1]"
   ]
  },
  {
   "cell_type": "code",
   "execution_count": 355,
   "metadata": {},
   "outputs": [
    {
     "data": {
      "image/png": "[encoded data removed]",
      "text/plain": [
       "<Figure size 648x504 with 1 Axes>"
      ]
     },
     "metadata": {
      "needs_background": "light"
     },
     "output_type": "display_data"
    }
   ],
   "source": [
    "# いくつか映画のタイトルをプロットしてみる\n",
    "pca_movie_df.plot(kind=\"scatter\", x='pca1', y='pca2', figsize=(9, 7), color='pink')\n",
    "\n",
    "# いくつかピックアップしてタイトルをプロット\n",
    "sampled_movie_df = pca_movie_df.sample(14, random_state=0)\n",
    "plt.scatter(x=sampled_movie_df['pca1'], y=sampled_movie_df['pca2'], color='blue')\n",
    "for i, row in sampled_movie_df.iterrows():\n",
    "    x, y, title = row.pca1, row.pca2, row['movie title']\n",
    "    plt.text(x+.03, y+.03, title, fontsize=9)"
   ]
  },
  {
   "cell_type": "markdown",
   "metadata": {},
   "source": [
    "## 類似度\n",
    "類似度は機械学習に限らずデータサイエンスでよく用いられる重要な概念のの1つで、何らかの尺度に基づいて2つ以上のデータ間を類似性を測ることができます。\n",
    "\n",
    "例えば、以下のような課題を解決するのに用いることができる。\n",
    "\n",
    "- とある商品と似たような商品を探したい\n",
    "- SNSで似ているユーザーを推薦したい\n",
    "- などなど\n",
    "\n",
    "ここでは、今まで見てきた映画データセットを用いて、類似度により類似した映画を発見する方法を見ていく。"
   ]
  },
  {
   "cell_type": "markdown",
   "metadata": {},
   "source": [
    "### 類似度の測り方\n",
    "類似度の基本的なコンセプトは、2つの要素（ここではベクトルとする）に関してその何らかの方法を使ってそれらの似ている度合いを計算することである。\n",
    "ここでベクトルと言うのは、表データにおける各行のようなもので、以下のように要素を横に並べたものである。\n",
    "\n",
    "$$\\vec{x} = (x_1, x_2, ..., x_n)$$\n",
    "\n",
    " 上記のベクトル$v$をn次元ベクトルと言う。（ただの用語）\n",
    " \n",
    " 類似度はこうしたベクトルについて、2つのベクトルを入力として何らかの類似度を出力する計算結果である。例えば$\\vec{x}$と$\\vec{y}$が会った時にその計算方法を$f(\\vec{x}, \\vec{y})$とすると、以下のように計算できる。\n",
    " \n",
    "$$類似度 = f(\\vec{x}, \\vec{y})$$\n",
    "\n",
    "類似度の計算方法についても様々な方法があるが、今回はその中でも比較的よく使われるコサイン類似度と言う指標を紹介する\n",
    "\n",
    "### コサイン類似度\n",
    "$\\vec{x}=(x1, x2, ..., x_n)$と$\\vec{y}=(y1, y2, ..., y_n)$の2つのベクトルで、コサイン類似度を求める場合は以下のように求められる。\n",
    "\n",
    "$$\n",
    "コサイン類似度=\\frac{x_1y_1 + x_2y_2 + x_ny_n}{\\sqrt{x_1^2 + x_2^2 + ... + x_n^2}\\sqrt{y_1^2 + y_2^2 + ... + y_n^2}}\n",
    "$$\n",
    "\n",
    "ベクトルの各要素は表データの各列（特徴量）であることから、分子の形から各特徴量が同じ方向を向いていればいるほど大きくなることが分かる。\n",
    "分母では、要素としてどんな値が出てきても、最終的な指標の値を-1〜+1の範囲に揃える働きががあることがわかれば良い。"
   ]
  },
  {
   "cell_type": "code",
   "execution_count": 277,
   "metadata": {},
   "outputs": [],
   "source": [
    "# コサイン類似度\n",
    "def cos_sim(v1, v2):\n",
    "    return np.dot(v1, v2) / (np.linalg.norm(v1) * np.linalg.norm(v2))"
   ]
  },
  {
   "cell_type": "code",
   "execution_count": 304,
   "metadata": {},
   "outputs": [
    {
     "data": {
      "text/plain": [
       "array([0.36070971, 1.34083868])"
      ]
     },
     "execution_count": 304,
     "metadata": {},
     "output_type": "execute_result"
    }
   ],
   "source": [
    "# トイストーリーとの類似度計算\n",
    "#movie_name = 'E.T. the Extra-Terrestrial (1982)'\n",
    "#movie_name = 'Toy Story (1995)'\n",
    "movie_name = 'Alien (1979)'\n",
    "movie_vector = pca_movie_df[pca_movie_df['movie title'] == movie_name][['pca1', 'pca2']].values[0,:]\n",
    "movie_vector"
   ]
  },
  {
   "cell_type": "code",
   "execution_count": 306,
   "metadata": {},
   "outputs": [],
   "source": [
    "# 類似度を計算して追加\n",
    "similalities = []\n",
    "for k, row in pca_movie_df[['pca1', 'pca2']].iterrows():\n",
    "    similarity = cos_sim(movie_vector, [row['pca1'], row['pca2']])\n",
    "    similalities.append(similarity)\n",
    "\n",
    "pca_movie_df['cosine_similarity'] = np.array(similalities)"
   ]
  },
  {
   "cell_type": "code",
   "execution_count": 308,
   "metadata": {},
   "outputs": [
    {
     "data": {
      "text/html": [
       "<div>\n",
       "<style scoped>\n",
       "    .dataframe tbody tr th:only-of-type {\n",
       "        vertical-align: middle;\n",
       "    }\n",
       "\n",
       "    .dataframe tbody tr th {\n",
       "        vertical-align: top;\n",
       "    }\n",
       "\n",
       "    .dataframe thead th {\n",
       "        text-align: right;\n",
       "    }\n",
       "</style>\n",
       "<table border=\"1\" class=\"dataframe\">\n",
       "  <thead>\n",
       "    <tr style=\"text-align: right;\">\n",
       "      <th></th>\n",
       "      <th>movie title</th>\n",
       "      <th>pca1</th>\n",
       "      <th>pca2</th>\n",
       "      <th>cosine_similarity</th>\n",
       "    </tr>\n",
       "  </thead>\n",
       "  <tbody>\n",
       "    <tr>\n",
       "      <th>182</th>\n",
       "      <td>Alien (1979)</td>\n",
       "      <td>0.360710</td>\n",
       "      <td>1.340839</td>\n",
       "      <td>1.000000</td>\n",
       "    </tr>\n",
       "    <tr>\n",
       "      <th>664</th>\n",
       "      <td>Alien 3 (1992)</td>\n",
       "      <td>0.360710</td>\n",
       "      <td>1.340839</td>\n",
       "      <td>1.000000</td>\n",
       "    </tr>\n",
       "    <tr>\n",
       "      <th>690</th>\n",
       "      <td>Dark City (1998)</td>\n",
       "      <td>0.219384</td>\n",
       "      <td>0.815609</td>\n",
       "      <td>1.000000</td>\n",
       "    </tr>\n",
       "    <tr>\n",
       "      <th>357</th>\n",
       "      <td>Spawn (1997)</td>\n",
       "      <td>0.396986</td>\n",
       "      <td>1.487840</td>\n",
       "      <td>0.999998</td>\n",
       "    </tr>\n",
       "    <tr>\n",
       "      <th>251</th>\n",
       "      <td>Lost World: Jurassic Park, The (1997)</td>\n",
       "      <td>0.396986</td>\n",
       "      <td>1.487840</td>\n",
       "      <td>0.999998</td>\n",
       "    </tr>\n",
       "  </tbody>\n",
       "</table>\n",
       "</div>"
      ],
      "text/plain": [
       "                               movie title      pca1      pca2  \\\n",
       "182                           Alien (1979)  0.360710  1.340839   \n",
       "664                         Alien 3 (1992)  0.360710  1.340839   \n",
       "690                       Dark City (1998)  0.219384  0.815609   \n",
       "357                           Spawn (1997)  0.396986  1.487840   \n",
       "251  Lost World: Jurassic Park, The (1997)  0.396986  1.487840   \n",
       "\n",
       "     cosine_similarity  \n",
       "182           1.000000  \n",
       "664           1.000000  \n",
       "690           1.000000  \n",
       "357           0.999998  \n",
       "251           0.999998  "
      ]
     },
     "execution_count": 308,
     "metadata": {},
     "output_type": "execute_result"
    }
   ],
   "source": [
    "# 類似度の高い順に並び替え\n",
    "pca_movie_df.sort_values(by='cosine_similarity', ascending=False).head()"
   ]
  },
  {
   "cell_type": "code",
   "execution_count": null,
   "metadata": {},
   "outputs": [],
   "source": []
  }
 ],
 "metadata": {
  "kernelspec": {
   "display_name": "Python 3",
   "language": "python",
   "name": "python3"
  },
  "language_info": {
   "codemirror_mode": {
    "name": "ipython",
    "version": 3
   },
   "file_extension": ".py",
   "mimetype": "text/x-python",
   "name": "python",
   "nbconvert_exporter": "python",
   "pygments_lexer": "ipython3",
   "version": "3.7.2"
  }
 },
 "nbformat": 4,
 "nbformat_minor": 2
}
