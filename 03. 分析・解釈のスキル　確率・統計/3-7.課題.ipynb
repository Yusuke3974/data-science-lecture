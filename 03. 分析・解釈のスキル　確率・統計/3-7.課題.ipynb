{
 "cells": [
  {
   "cell_type": "markdown",
   "metadata": {},
   "source": [
    "# 課題\n",
    "あやめデータセットを用いて、`virginica` の `petal length (cm)` は `setosa`と差があると言って良いかを、t検定の手続きに沿って判断せよ。"
   ]
  },
  {
   "cell_type": "code",
   "execution_count": 4,
   "metadata": {},
   "outputs": [],
   "source": [
    "import numpy as np\n",
    "import pandas as pd\n",
    "\n",
    "import matplotlib.pyplot as plt\n",
    "import seaborn as sns\n",
    "%matplotlib inline"
   ]
  },
  {
   "cell_type": "code",
   "execution_count": 2,
   "metadata": {},
   "outputs": [],
   "source": [
    "# あやめデータの読み込み\n",
    "from sklearn.datasets import load_iris\n",
    "iris = load_iris()\n",
    "iris_df = pd.DataFrame(iris.data, columns=iris.feature_names)\n",
    "\n",
    "target_name_data = []\n",
    "for target in iris.target:\n",
    "    target_name_data.append(iris['target_names'][target])\n",
    "iris_df['target'] = np.array(target_name_data)"
   ]
  },
  {
   "cell_type": "code",
   "execution_count": 7,
   "metadata": {},
   "outputs": [
    {
     "data": {
      "text/plain": [
       "5.552"
      ]
     },
     "execution_count": 7,
     "metadata": {},
     "output_type": "execute_result"
    }
   ],
   "source": [
    "iris_df[iris_df.target == 'virginica']['petal length (cm)'].mean()"
   ]
  },
  {
   "cell_type": "code",
   "execution_count": 8,
   "metadata": {},
   "outputs": [
    {
     "data": {
      "text/plain": [
       "1.464"
      ]
     },
     "execution_count": 8,
     "metadata": {},
     "output_type": "execute_result"
    }
   ],
   "source": [
    "iris_df[iris_df.target == 'setosa']['petal length (cm)'].mean()"
   ]
  },
  {
   "cell_type": "markdown",
   "metadata": {},
   "source": [
    "## 解答\n",
    "### 事前に決めること\n",
    "- 帰無仮説（棄却したい仮説）を「平均値に差がない」こと、対立仮説を「平均値に差がある（差がないとは言えない）」と設定\n",
    "- 得られた標本統計量（この場合t値）のp値が0.05未満の場合は、それが起こることはまれであるとして帰無仮説を棄却すると設定"
   ]
  },
  {
   "cell_type": "code",
   "execution_count": 9,
   "metadata": {},
   "outputs": [],
   "source": [
    "from scipy import stats\n",
    "col_name = 'petal length (cm)'\n",
    "t, p = stats.ttest_rel(iris_df[iris_df.target == 'setosa'][col_name], iris_df[iris_df.target == 'virginica'][col_name])"
   ]
  },
  {
   "cell_type": "code",
   "execution_count": 11,
   "metadata": {},
   "outputs": [
    {
     "name": "stdout",
     "output_type": "stream",
     "text": [
      "p値:  2.5430201537180504e-44\n"
     ]
    }
   ],
   "source": [
    "print(\"p値: \", p)"
   ]
  },
  {
   "cell_type": "markdown",
   "metadata": {},
   "source": [
    "### 計算結果と照らし合わせて\n",
    "- p値が0.05を下回っているため、帰無仮説を棄却\n",
    "- 対立仮説が採択され「平均値に差がある」と結論付けられる"
   ]
  }
 ],
 "metadata": {
  "kernelspec": {
   "display_name": "Python 3",
   "language": "python",
   "name": "python3"
  },
  "language_info": {
   "codemirror_mode": {
    "name": "ipython",
    "version": 3
   },
   "file_extension": ".py",
   "mimetype": "text/x-python",
   "name": "python",
   "nbconvert_exporter": "python",
   "pygments_lexer": "ipython3",
   "version": "3.7.2"
  }
 },
 "nbformat": 4,
 "nbformat_minor": 2
}
