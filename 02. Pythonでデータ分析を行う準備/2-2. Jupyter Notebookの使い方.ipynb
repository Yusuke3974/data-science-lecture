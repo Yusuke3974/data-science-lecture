{
 "cells": [
  {
   "cell_type": "markdown",
   "metadata": {},
   "source": [
    "# 2-1. Jupyter Notebookの使い方\n",
    "\n",
    "## Homeの状態\n",
    "実行時のフォルダの内容が反映\n",
    "\n",
    "## Notebookの作成\n",
    "右上の「New」から新たなノートブックを作成できる\n",
    "\n",
    "## ファイル名\n",
    "チェックをつけて名前の変更を行うこともできる\n",
    "\n",
    "## セル\n",
    "画面の中に青枠で囲まれた領域の中にプログラムを記述していく\n",
    "\n",
    "- 青枠（コマンドモード） … 選択中のセル\n",
    "- 緑枠（エディットモード） … プログラム入力中\n",
    "\n",
    "## プログラムの実行\n",
    "セルの中にプログラムを記述した状態で左の実行ボタンを押すと結果が出力される\n",
    "\n",
    "- `Shift + Enter` で実行（実行して次のセルに移る）\n",
    "- `Ctrl + Enter` も実行（実行しても次のセルに移らない）\n",
    "\n",
    "## 上部のボタン\n",
    "左から順に以下のような意味\n",
    "\n",
    "- 保存 … 「Cmd + s」でも可能\n",
    "- セルの追加 … プログラム実行後「a」でも可能\n",
    "- セルの切り取り\n",
    "- セルのコピー\n",
    "- セルの貼り付け\n",
    "- 選択中セルの上下移動\n",
    "- プログラムの実行\n",
    "- 実行中プログラムの停止 ... コンソールで実行する際の `Ctrl + c` に相当\n",
    "- カーネルの再起動（実行環境が再起動）\n",
    "- カーネルの再起動をして上から順に全てのセルを実行\n",
    "- セルのモードを切り替える\n",
    "  - コード\n",
    "  - テキスト（マークダウン）\n",
    "\n",
    "## ノートブックの出力\n",
    "「File」の「Download as...」からHTMLなどで保存可能\n",
    "\n",
    "## Jupyter Notebookの停止\n",
    "画面右上の「Quit」で停止することができる"
   ]
  },
  {
   "cell_type": "code",
   "execution_count": null,
   "metadata": {},
   "outputs": [],
   "source": []
  }
 ],
 "metadata": {
  "kernelspec": {
   "display_name": "Python 3",
   "language": "python",
   "name": "python3"
  },
  "language_info": {
   "codemirror_mode": {
    "name": "ipython",
    "version": 3
   },
   "file_extension": ".py",
   "mimetype": "text/x-python",
   "name": "python",
   "nbconvert_exporter": "python",
   "pygments_lexer": "ipython3",
   "version": "3.7.2"
  }
 },
 "nbformat": 4,
 "nbformat_minor": 2
}
