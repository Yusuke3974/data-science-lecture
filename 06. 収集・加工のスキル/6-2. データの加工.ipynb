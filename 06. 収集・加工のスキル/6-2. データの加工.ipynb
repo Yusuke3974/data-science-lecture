{
 "cells": [
  {
   "cell_type": "markdown",
   "metadata": {},
   "source": [
    "# 6-2. データの加工\n",
    "ここでは主にPandasを利用したデータ加工の方法について学ぶ"
   ]
  },
  {
   "cell_type": "code",
   "execution_count": 1,
   "metadata": {},
   "outputs": [],
   "source": [
    "# 必要なライブラリの読み込み\n",
    "import pandas as pd\n",
    "import numpy as np\n",
    "\n",
    "# 可視化\n",
    "import matplotlib.pyplot as plt\n",
    "import seaborn as sns\n",
    "%matplotlib inline"
   ]
  },
  {
   "cell_type": "code",
   "execution_count": 2,
   "metadata": {},
   "outputs": [],
   "source": [
    "# 4章で利用したMovie Lensを利用\n",
    "\n",
    "# データセットの読み込み\n",
    "# ホームページから取得 http://files.grouplens.org/datasets/movielens/ml-100k-README.txt\n",
    "\n",
    "# ユーザー情報\n",
    "user_url = 'http://files.grouplens.org/datasets/movielens/ml-100k/u.user'\n",
    "user_df = pd.read_csv(user_url, sep='|', header=None, encoding='latin-1')\n",
    "user_col_info = \"user id | age | gender | occupation | zip code\"\n",
    "user_df.columns = user_col_info.split(\" | \")\n",
    "\n",
    "# 評価情報\n",
    "rating_url = 'http://files.grouplens.org/datasets/movielens/ml-100k/u.data'\n",
    "rating_df = pd.read_csv(rating_url, sep='\\t', header=None, encoding='latin-1')\n",
    "rating_col_info = \"user id | item id | rating | timestamp\"\n",
    "rating_df.columns = rating_col_info.split(\" | \")"
   ]
  },
  {
   "cell_type": "markdown",
   "metadata": {},
   "source": [
    "## データの結合\n",
    "評価情報だけ見ても、どのようなユーザーがどの映画に評価をしているのかは分からないため、データを結合することにより良い分析ができる場合がある。\n",
    "\n",
    "複数のデータ（テーブル）を特定のID（キー）に基づいて繋げることを「結合」と言う。\n",
    "\n",
    "## 結合の種類\n",
    "AとBの2つのテーブルがあるときにそれらをキーに基づいて結合する方法は、AをLEFT、Bを RIGHTと表現して以下のような結合の種類がある。\n",
    "\n",
    "- INNER JOIN ... 両テーブルに同じキーが存在する時に結合\n",
    "- FULL (OUTER) JOIN ... どちらかにキーが存在すれば結合\n",
    "- LEFT JOIN ... Aにキーが存在する時に結合\n",
    "- RIGHT JOIN ... Bにキーが存在する時に結合"
   ]
  },
  {
   "cell_type": "code",
   "execution_count": 3,
   "metadata": {},
   "outputs": [
    {
     "data": {
      "text/html": [
       "<div>\n",
       "<style scoped>\n",
       "    .dataframe tbody tr th:only-of-type {\n",
       "        vertical-align: middle;\n",
       "    }\n",
       "\n",
       "    .dataframe tbody tr th {\n",
       "        vertical-align: top;\n",
       "    }\n",
       "\n",
       "    .dataframe thead th {\n",
       "        text-align: right;\n",
       "    }\n",
       "</style>\n",
       "<table border=\"1\" class=\"dataframe\">\n",
       "  <thead>\n",
       "    <tr style=\"text-align: right;\">\n",
       "      <th></th>\n",
       "      <th>user id</th>\n",
       "      <th>item id</th>\n",
       "      <th>rating</th>\n",
       "      <th>timestamp</th>\n",
       "      <th>age</th>\n",
       "      <th>gender</th>\n",
       "      <th>occupation</th>\n",
       "      <th>zip code</th>\n",
       "    </tr>\n",
       "  </thead>\n",
       "  <tbody>\n",
       "    <tr>\n",
       "      <th>0</th>\n",
       "      <td>23</td>\n",
       "      <td>528</td>\n",
       "      <td>4</td>\n",
       "      <td>874786974</td>\n",
       "      <td>30</td>\n",
       "      <td>F</td>\n",
       "      <td>artist</td>\n",
       "      <td>48197</td>\n",
       "    </tr>\n",
       "    <tr>\n",
       "      <th>1</th>\n",
       "      <td>774</td>\n",
       "      <td>28</td>\n",
       "      <td>3</td>\n",
       "      <td>888556698</td>\n",
       "      <td>30</td>\n",
       "      <td>M</td>\n",
       "      <td>student</td>\n",
       "      <td>80027</td>\n",
       "    </tr>\n",
       "    <tr>\n",
       "      <th>2</th>\n",
       "      <td>417</td>\n",
       "      <td>550</td>\n",
       "      <td>3</td>\n",
       "      <td>879649178</td>\n",
       "      <td>27</td>\n",
       "      <td>F</td>\n",
       "      <td>other</td>\n",
       "      <td>48103</td>\n",
       "    </tr>\n",
       "    <tr>\n",
       "      <th>3</th>\n",
       "      <td>234</td>\n",
       "      <td>1035</td>\n",
       "      <td>3</td>\n",
       "      <td>892335142</td>\n",
       "      <td>60</td>\n",
       "      <td>M</td>\n",
       "      <td>retired</td>\n",
       "      <td>94702</td>\n",
       "    </tr>\n",
       "    <tr>\n",
       "      <th>4</th>\n",
       "      <td>586</td>\n",
       "      <td>800</td>\n",
       "      <td>3</td>\n",
       "      <td>884061189</td>\n",
       "      <td>20</td>\n",
       "      <td>M</td>\n",
       "      <td>student</td>\n",
       "      <td>79508</td>\n",
       "    </tr>\n",
       "  </tbody>\n",
       "</table>\n",
       "</div>"
      ],
      "text/plain": [
       "   user id  item id  rating  timestamp  age gender occupation zip code\n",
       "0       23      528       4  874786974   30      F     artist    48197\n",
       "1      774       28       3  888556698   30      M    student    80027\n",
       "2      417      550       3  879649178   27      F      other    48103\n",
       "3      234     1035       3  892335142   60      M    retired    94702\n",
       "4      586      800       3  884061189   20      M    student    79508"
      ]
     },
     "execution_count": 3,
     "metadata": {},
     "output_type": "execute_result"
    }
   ],
   "source": [
    "# INNER JOINの例\n",
    "left_table = rating_df.sample(100, random_state=0)\n",
    "right_table = user_df.sample(500, random_state=0)\n",
    "merged_df = pd.merge(left_table, right_table, on='user id')\n",
    "merged_df.head()"
   ]
  },
  {
   "cell_type": "code",
   "execution_count": 4,
   "metadata": {},
   "outputs": [
    {
     "name": "stdout",
     "output_type": "stream",
     "text": [
      "(555, 8)\n"
     ]
    },
    {
     "data": {
      "text/html": [
       "<div>\n",
       "<style scoped>\n",
       "    .dataframe tbody tr th:only-of-type {\n",
       "        vertical-align: middle;\n",
       "    }\n",
       "\n",
       "    .dataframe tbody tr th {\n",
       "        vertical-align: top;\n",
       "    }\n",
       "\n",
       "    .dataframe thead th {\n",
       "        text-align: right;\n",
       "    }\n",
       "</style>\n",
       "<table border=\"1\" class=\"dataframe\">\n",
       "  <thead>\n",
       "    <tr style=\"text-align: right;\">\n",
       "      <th></th>\n",
       "      <th>user id</th>\n",
       "      <th>item id</th>\n",
       "      <th>rating</th>\n",
       "      <th>timestamp</th>\n",
       "      <th>age</th>\n",
       "      <th>gender</th>\n",
       "      <th>occupation</th>\n",
       "      <th>zip code</th>\n",
       "    </tr>\n",
       "  </thead>\n",
       "  <tbody>\n",
       "    <tr>\n",
       "      <th>0</th>\n",
       "      <td>23</td>\n",
       "      <td>528.0</td>\n",
       "      <td>4.0</td>\n",
       "      <td>874786974.0</td>\n",
       "      <td>30.0</td>\n",
       "      <td>F</td>\n",
       "      <td>artist</td>\n",
       "      <td>48197</td>\n",
       "    </tr>\n",
       "    <tr>\n",
       "      <th>1</th>\n",
       "      <td>695</td>\n",
       "      <td>242.0</td>\n",
       "      <td>5.0</td>\n",
       "      <td>888805837.0</td>\n",
       "      <td>NaN</td>\n",
       "      <td>NaN</td>\n",
       "      <td>NaN</td>\n",
       "      <td>NaN</td>\n",
       "    </tr>\n",
       "    <tr>\n",
       "      <th>2</th>\n",
       "      <td>774</td>\n",
       "      <td>28.0</td>\n",
       "      <td>3.0</td>\n",
       "      <td>888556698.0</td>\n",
       "      <td>30.0</td>\n",
       "      <td>M</td>\n",
       "      <td>student</td>\n",
       "      <td>80027</td>\n",
       "    </tr>\n",
       "    <tr>\n",
       "      <th>3</th>\n",
       "      <td>417</td>\n",
       "      <td>550.0</td>\n",
       "      <td>3.0</td>\n",
       "      <td>879649178.0</td>\n",
       "      <td>27.0</td>\n",
       "      <td>F</td>\n",
       "      <td>other</td>\n",
       "      <td>48103</td>\n",
       "    </tr>\n",
       "    <tr>\n",
       "      <th>4</th>\n",
       "      <td>234</td>\n",
       "      <td>1035.0</td>\n",
       "      <td>3.0</td>\n",
       "      <td>892335142.0</td>\n",
       "      <td>60.0</td>\n",
       "      <td>M</td>\n",
       "      <td>retired</td>\n",
       "      <td>94702</td>\n",
       "    </tr>\n",
       "  </tbody>\n",
       "</table>\n",
       "</div>"
      ],
      "text/plain": [
       "   user id  item id  rating    timestamp   age gender occupation zip code\n",
       "0       23    528.0     4.0  874786974.0  30.0      F     artist    48197\n",
       "1      695    242.0     5.0  888805837.0   NaN    NaN        NaN      NaN\n",
       "2      774     28.0     3.0  888556698.0  30.0      M    student    80027\n",
       "3      417    550.0     3.0  879649178.0  27.0      F      other    48103\n",
       "4      234   1035.0     3.0  892335142.0  60.0      M    retired    94702"
      ]
     },
     "execution_count": 4,
     "metadata": {},
     "output_type": "execute_result"
    }
   ],
   "source": [
    "# FULL JOINの例\n",
    "merged_df = pd.merge(left_table, right_table, on='user id', how='outer')\n",
    "print(merged_df.shape)\n",
    "merged_df.head()"
   ]
  },
  {
   "cell_type": "code",
   "execution_count": 5,
   "metadata": {},
   "outputs": [
    {
     "name": "stdout",
     "output_type": "stream",
     "text": [
      "(100, 8)\n"
     ]
    },
    {
     "data": {
      "text/html": [
       "<div>\n",
       "<style scoped>\n",
       "    .dataframe tbody tr th:only-of-type {\n",
       "        vertical-align: middle;\n",
       "    }\n",
       "\n",
       "    .dataframe tbody tr th {\n",
       "        vertical-align: top;\n",
       "    }\n",
       "\n",
       "    .dataframe thead th {\n",
       "        text-align: right;\n",
       "    }\n",
       "</style>\n",
       "<table border=\"1\" class=\"dataframe\">\n",
       "  <thead>\n",
       "    <tr style=\"text-align: right;\">\n",
       "      <th></th>\n",
       "      <th>user id</th>\n",
       "      <th>item id</th>\n",
       "      <th>rating</th>\n",
       "      <th>timestamp</th>\n",
       "      <th>age</th>\n",
       "      <th>gender</th>\n",
       "      <th>occupation</th>\n",
       "      <th>zip code</th>\n",
       "    </tr>\n",
       "  </thead>\n",
       "  <tbody>\n",
       "    <tr>\n",
       "      <th>0</th>\n",
       "      <td>23</td>\n",
       "      <td>528</td>\n",
       "      <td>4</td>\n",
       "      <td>874786974</td>\n",
       "      <td>30.0</td>\n",
       "      <td>F</td>\n",
       "      <td>artist</td>\n",
       "      <td>48197</td>\n",
       "    </tr>\n",
       "    <tr>\n",
       "      <th>1</th>\n",
       "      <td>695</td>\n",
       "      <td>242</td>\n",
       "      <td>5</td>\n",
       "      <td>888805837</td>\n",
       "      <td>NaN</td>\n",
       "      <td>NaN</td>\n",
       "      <td>NaN</td>\n",
       "      <td>NaN</td>\n",
       "    </tr>\n",
       "    <tr>\n",
       "      <th>2</th>\n",
       "      <td>774</td>\n",
       "      <td>28</td>\n",
       "      <td>3</td>\n",
       "      <td>888556698</td>\n",
       "      <td>30.0</td>\n",
       "      <td>M</td>\n",
       "      <td>student</td>\n",
       "      <td>80027</td>\n",
       "    </tr>\n",
       "    <tr>\n",
       "      <th>3</th>\n",
       "      <td>417</td>\n",
       "      <td>550</td>\n",
       "      <td>3</td>\n",
       "      <td>879649178</td>\n",
       "      <td>27.0</td>\n",
       "      <td>F</td>\n",
       "      <td>other</td>\n",
       "      <td>48103</td>\n",
       "    </tr>\n",
       "    <tr>\n",
       "      <th>4</th>\n",
       "      <td>234</td>\n",
       "      <td>1035</td>\n",
       "      <td>3</td>\n",
       "      <td>892335142</td>\n",
       "      <td>60.0</td>\n",
       "      <td>M</td>\n",
       "      <td>retired</td>\n",
       "      <td>94702</td>\n",
       "    </tr>\n",
       "  </tbody>\n",
       "</table>\n",
       "</div>"
      ],
      "text/plain": [
       "   user id  item id  rating  timestamp   age gender occupation zip code\n",
       "0       23      528       4  874786974  30.0      F     artist    48197\n",
       "1      695      242       5  888805837   NaN    NaN        NaN      NaN\n",
       "2      774       28       3  888556698  30.0      M    student    80027\n",
       "3      417      550       3  879649178  27.0      F      other    48103\n",
       "4      234     1035       3  892335142  60.0      M    retired    94702"
      ]
     },
     "execution_count": 5,
     "metadata": {},
     "output_type": "execute_result"
    }
   ],
   "source": [
    "# LEFT JOINの例\n",
    "merged_df = pd.merge(left_table, right_table, on='user id', how='left')\n",
    "print(merged_df.shape)\n",
    "merged_df.head()"
   ]
  },
  {
   "cell_type": "code",
   "execution_count": 6,
   "metadata": {},
   "outputs": [
    {
     "name": "stdout",
     "output_type": "stream",
     "text": [
      "(504, 8)\n"
     ]
    },
    {
     "data": {
      "text/html": [
       "<div>\n",
       "<style scoped>\n",
       "    .dataframe tbody tr th:only-of-type {\n",
       "        vertical-align: middle;\n",
       "    }\n",
       "\n",
       "    .dataframe tbody tr th {\n",
       "        vertical-align: top;\n",
       "    }\n",
       "\n",
       "    .dataframe thead th {\n",
       "        text-align: right;\n",
       "    }\n",
       "</style>\n",
       "<table border=\"1\" class=\"dataframe\">\n",
       "  <thead>\n",
       "    <tr style=\"text-align: right;\">\n",
       "      <th></th>\n",
       "      <th>user id</th>\n",
       "      <th>item id</th>\n",
       "      <th>rating</th>\n",
       "      <th>timestamp</th>\n",
       "      <th>age</th>\n",
       "      <th>gender</th>\n",
       "      <th>occupation</th>\n",
       "      <th>zip code</th>\n",
       "    </tr>\n",
       "  </thead>\n",
       "  <tbody>\n",
       "    <tr>\n",
       "      <th>0</th>\n",
       "      <td>23</td>\n",
       "      <td>528.0</td>\n",
       "      <td>4.0</td>\n",
       "      <td>874786974.0</td>\n",
       "      <td>30</td>\n",
       "      <td>F</td>\n",
       "      <td>artist</td>\n",
       "      <td>48197</td>\n",
       "    </tr>\n",
       "    <tr>\n",
       "      <th>1</th>\n",
       "      <td>774</td>\n",
       "      <td>28.0</td>\n",
       "      <td>3.0</td>\n",
       "      <td>888556698.0</td>\n",
       "      <td>30</td>\n",
       "      <td>M</td>\n",
       "      <td>student</td>\n",
       "      <td>80027</td>\n",
       "    </tr>\n",
       "    <tr>\n",
       "      <th>2</th>\n",
       "      <td>417</td>\n",
       "      <td>550.0</td>\n",
       "      <td>3.0</td>\n",
       "      <td>879649178.0</td>\n",
       "      <td>27</td>\n",
       "      <td>F</td>\n",
       "      <td>other</td>\n",
       "      <td>48103</td>\n",
       "    </tr>\n",
       "    <tr>\n",
       "      <th>3</th>\n",
       "      <td>234</td>\n",
       "      <td>1035.0</td>\n",
       "      <td>3.0</td>\n",
       "      <td>892335142.0</td>\n",
       "      <td>60</td>\n",
       "      <td>M</td>\n",
       "      <td>retired</td>\n",
       "      <td>94702</td>\n",
       "    </tr>\n",
       "    <tr>\n",
       "      <th>4</th>\n",
       "      <td>586</td>\n",
       "      <td>800.0</td>\n",
       "      <td>3.0</td>\n",
       "      <td>884061189.0</td>\n",
       "      <td>20</td>\n",
       "      <td>M</td>\n",
       "      <td>student</td>\n",
       "      <td>79508</td>\n",
       "    </tr>\n",
       "  </tbody>\n",
       "</table>\n",
       "</div>"
      ],
      "text/plain": [
       "   user id  item id  rating    timestamp  age gender occupation zip code\n",
       "0       23    528.0     4.0  874786974.0   30      F     artist    48197\n",
       "1      774     28.0     3.0  888556698.0   30      M    student    80027\n",
       "2      417    550.0     3.0  879649178.0   27      F      other    48103\n",
       "3      234   1035.0     3.0  892335142.0   60      M    retired    94702\n",
       "4      586    800.0     3.0  884061189.0   20      M    student    79508"
      ]
     },
     "execution_count": 6,
     "metadata": {},
     "output_type": "execute_result"
    }
   ],
   "source": [
    "# RIGHT JOINの例\n",
    "merged_df = pd.merge(left_table, right_table, on='user id', how='right')\n",
    "print(merged_df.shape)\n",
    "merged_df.head()"
   ]
  },
  {
   "cell_type": "markdown",
   "metadata": {},
   "source": [
    "## データの変換処理\n",
    "ここではデータ分析でよく用いる2つの処理（マッピング、ビン分割）を紹介する。"
   ]
  },
  {
   "cell_type": "code",
   "execution_count": 7,
   "metadata": {},
   "outputs": [
    {
     "data": {
      "text/plain": [
       "0    男性\n",
       "1    女性\n",
       "2    男性\n",
       "3    男性\n",
       "4    女性\n",
       "Name: gender, dtype: object"
      ]
     },
     "execution_count": 7,
     "metadata": {},
     "output_type": "execute_result"
    }
   ],
   "source": [
    "# マッピング処理\n",
    "#   ユーザーデータの性別を日本語にする\n",
    "gender_map_table = {\n",
    "    'F': '女性',\n",
    "    'M': '男性'\n",
    "}\n",
    "\n",
    "# map関数を使う\n",
    "user_df.gender.map(gender_map_table).head()"
   ]
  },
  {
   "cell_type": "code",
   "execution_count": 8,
   "metadata": {},
   "outputs": [
    {
     "data": {
      "text/plain": [
       "(7     1\n",
       " 10    1\n",
       " Name: age, dtype: int64, 69    2\n",
       " 70    3\n",
       " 73    1\n",
       " Name: age, dtype: int64)"
      ]
     },
     "execution_count": 8,
     "metadata": {},
     "output_type": "execute_result"
    }
   ],
   "source": [
    "# ビン分割\n",
    "#   年齢を10歳区切りで集計したいなどで活用\n",
    "\n",
    "# まずは年齢の分布を確認\n",
    "user_df.age.value_counts().sort_index()[:2], user_df.age.value_counts().sort_index()[-3:]"
   ]
  },
  {
   "cell_type": "code",
   "execution_count": 9,
   "metadata": {},
   "outputs": [],
   "source": [
    "# 7歳〜73歳だとわかったので、それをカバーできるように分割\n",
    "#   意味：0〜10, 10〜20, ... , 70〜80歳の区切りで集計\n",
    "age_bins = [0, 10, 20, 30, 40, 50, 60, 70, 80]\n",
    "age_bins_data = pd.cut(user_df.age, age_bins)"
   ]
  },
  {
   "cell_type": "code",
   "execution_count": 10,
   "metadata": {},
   "outputs": [
    {
     "data": {
      "text/plain": [
       "<matplotlib.axes._subplots.AxesSubplot at 0x1a153f5898>"
      ]
     },
     "execution_count": 10,
     "metadata": {},
     "output_type": "execute_result"
    },
    {
     "data": {
      "image/png": "[encoded data removed]",
      "text/plain": [
       "<Figure size 432x288 with 1 Axes>"
      ]
     },
     "metadata": {
      "needs_background": "light"
     },
     "output_type": "display_data"
    }
   ],
   "source": [
    "# データの可視化\n",
    "age_bins_data.value_counts().sort_index().plot(kind='bar')"
   ]
  },
  {
   "cell_type": "code",
   "execution_count": 11,
   "metadata": {},
   "outputs": [
    {
     "data": {
      "text/plain": [
       "<matplotlib.axes._subplots.AxesSubplot at 0x1a175af940>"
      ]
     },
     "execution_count": 11,
     "metadata": {},
     "output_type": "execute_result"
    },
    {
     "data": {
      "image/png": "[encoded data removed]",
      "text/plain": [
       "<Figure size 432x288 with 1 Axes>"
      ]
     },
     "metadata": {
      "needs_background": "light"
     },
     "output_type": "display_data"
    }
   ],
   "source": [
    "# 区関数を指定して自動分割もできる\n",
    "age_bins_data = pd.cut(user_df.age, 10)\n",
    "age_bins_data.value_counts().sort_index().plot(kind='bar')"
   ]
  },
  {
   "cell_type": "markdown",
   "metadata": {},
   "source": [
    "## 欠損値の扱い\n",
    "NaNなどで表現される「存在しない」ことを表す欠損値の扱いについて確認する。\n",
    "\n",
    "### 欠損値\n",
    "欠損値とは計測や処理の過程で抜け落ちてしまったデータのことで、以下に紹介するような「除外」や「穴埋め」といった方法で対処をすることが多い。"
   ]
  },
  {
   "cell_type": "code",
   "execution_count": 12,
   "metadata": {},
   "outputs": [
    {
     "data": {
      "text/html": [
       "<div>\n",
       "<style scoped>\n",
       "    .dataframe tbody tr th:only-of-type {\n",
       "        vertical-align: middle;\n",
       "    }\n",
       "\n",
       "    .dataframe tbody tr th {\n",
       "        vertical-align: top;\n",
       "    }\n",
       "\n",
       "    .dataframe thead th {\n",
       "        text-align: right;\n",
       "    }\n",
       "</style>\n",
       "<table border=\"1\" class=\"dataframe\">\n",
       "  <thead>\n",
       "    <tr style=\"text-align: right;\">\n",
       "      <th></th>\n",
       "      <th>user id</th>\n",
       "      <th>item id</th>\n",
       "      <th>rating</th>\n",
       "      <th>timestamp</th>\n",
       "      <th>age</th>\n",
       "      <th>gender</th>\n",
       "      <th>occupation</th>\n",
       "      <th>zip code</th>\n",
       "    </tr>\n",
       "  </thead>\n",
       "  <tbody>\n",
       "    <tr>\n",
       "      <th>0</th>\n",
       "      <td>23</td>\n",
       "      <td>528</td>\n",
       "      <td>4</td>\n",
       "      <td>874786974</td>\n",
       "      <td>30.0</td>\n",
       "      <td>F</td>\n",
       "      <td>artist</td>\n",
       "      <td>48197</td>\n",
       "    </tr>\n",
       "    <tr>\n",
       "      <th>1</th>\n",
       "      <td>695</td>\n",
       "      <td>242</td>\n",
       "      <td>5</td>\n",
       "      <td>888805837</td>\n",
       "      <td>NaN</td>\n",
       "      <td>NaN</td>\n",
       "      <td>NaN</td>\n",
       "      <td>NaN</td>\n",
       "    </tr>\n",
       "    <tr>\n",
       "      <th>2</th>\n",
       "      <td>774</td>\n",
       "      <td>28</td>\n",
       "      <td>3</td>\n",
       "      <td>888556698</td>\n",
       "      <td>30.0</td>\n",
       "      <td>M</td>\n",
       "      <td>student</td>\n",
       "      <td>80027</td>\n",
       "    </tr>\n",
       "    <tr>\n",
       "      <th>3</th>\n",
       "      <td>417</td>\n",
       "      <td>550</td>\n",
       "      <td>3</td>\n",
       "      <td>879649178</td>\n",
       "      <td>27.0</td>\n",
       "      <td>F</td>\n",
       "      <td>other</td>\n",
       "      <td>48103</td>\n",
       "    </tr>\n",
       "    <tr>\n",
       "      <th>4</th>\n",
       "      <td>234</td>\n",
       "      <td>1035</td>\n",
       "      <td>3</td>\n",
       "      <td>892335142</td>\n",
       "      <td>60.0</td>\n",
       "      <td>M</td>\n",
       "      <td>retired</td>\n",
       "      <td>94702</td>\n",
       "    </tr>\n",
       "  </tbody>\n",
       "</table>\n",
       "</div>"
      ],
      "text/plain": [
       "   user id  item id  rating  timestamp   age gender occupation zip code\n",
       "0       23      528       4  874786974  30.0      F     artist    48197\n",
       "1      695      242       5  888805837   NaN    NaN        NaN      NaN\n",
       "2      774       28       3  888556698  30.0      M    student    80027\n",
       "3      417      550       3  879649178  27.0      F      other    48103\n",
       "4      234     1035       3  892335142  60.0      M    retired    94702"
      ]
     },
     "execution_count": 12,
     "metadata": {},
     "output_type": "execute_result"
    }
   ],
   "source": [
    "# 欠損値を確認\n",
    "merged_df = pd.merge(left_table, right_table, on='user id', how='left')\n",
    "merged_df.head()"
   ]
  },
  {
   "cell_type": "code",
   "execution_count": 13,
   "metadata": {},
   "outputs": [
    {
     "name": "stdout",
     "output_type": "stream",
     "text": [
      "全ての行:  100\n",
      "欠損値を一つでも含む行を除外:  49\n"
     ]
    }
   ],
   "source": [
    "# 欠損値を除外する\n",
    "#   欠損値を一つでも含む行が除外する\n",
    "print(\"全ての行: \", merged_df.shape[0])\n",
    "print(\"欠損値を一つでも含む行を除外: \", merged_df.dropna().shape[0])"
   ]
  },
  {
   "cell_type": "code",
   "execution_count": 14,
   "metadata": {},
   "outputs": [
    {
     "name": "stdout",
     "output_type": "stream",
     "text": [
      "欠損を含むデータ\n",
      "M    36\n",
      "F    13\n",
      "Name: gender, dtype: int64\n",
      "\n",
      "欠損を補填したデータ\n",
      "性別データなし    51\n",
      "M          36\n",
      "F          13\n",
      "Name: gender, dtype: int64\n"
     ]
    }
   ],
   "source": [
    "# 欠損値を穴埋める\n",
    "\n",
    "# 欠損値を埋める前\n",
    "print(\"欠損を含むデータ\")\n",
    "print(merged_df.gender.value_counts())\n",
    "\n",
    "# 性別データを「\"性別データなし\"で埋める」\n",
    "print(\"\\n欠損を補填したデータ\")\n",
    "print(merged_df.gender.fillna(\"性別データなし\").value_counts())"
   ]
  },
  {
   "cell_type": "code",
   "execution_count": 15,
   "metadata": {},
   "outputs": [
    {
     "data": {
      "text/plain": [
       "0    30.000000\n",
       "1    31.387755\n",
       "2    30.000000\n",
       "3    27.000000\n",
       "4    60.000000\n",
       "Name: age, dtype: float64"
      ]
     },
     "execution_count": 15,
     "metadata": {},
     "output_type": "execute_result"
    }
   ],
   "source": [
    "# 年齢の欠損値を平均値で埋める\n",
    "merged_df.age.fillna(merged_df.age.mean()).head()"
   ]
  }
 ],
 "metadata": {
  "kernelspec": {
   "display_name": "Python 3",
   "language": "python",
   "name": "python3"
  },
  "language_info": {
   "codemirror_mode": {
    "name": "ipython",
    "version": 3
   },
   "file_extension": ".py",
   "mimetype": "text/x-python",
   "name": "python",
   "nbconvert_exporter": "python",
   "pygments_lexer": "ipython3",
   "version": "3.7.2"
  }
 },
 "nbformat": 4,
 "nbformat_minor": 2
}
